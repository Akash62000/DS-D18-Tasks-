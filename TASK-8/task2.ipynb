{
  "nbformat": 4,
  "nbformat_minor": 0,
  "metadata": {
    "colab": {
      "name": "task2.ipynb",
      "provenance": [],
      "collapsed_sections": [],
      "authorship_tag": "ABX9TyOI8UAwBXyczk6yZ7h3Ljla"
    },
    "kernelspec": {
      "name": "python3",
      "display_name": "Python 3"
    },
    "language_info": {
      "name": "python"
    }
  },
  "cells": [
    {
      "cell_type": "code",
      "source": [
        "# importing the nltk suite\n",
        "import nltk\n",
        "\n",
        "# importing jaccard distance\n",
        "# and ngrams from nltk.util\n",
        "from nltk.metrics.distance import jaccard_distance\n",
        "from nltk.util import ngrams\n"
      ],
      "metadata": {
        "id": "LYX4xxZbbj5K"
      },
      "execution_count": 39,
      "outputs": []
    },
    {
      "cell_type": "code",
      "source": [
        "# Downloading and importing\n",
        "# package 'words' from nltk corpus\n",
        "nltk.download('words')\n",
        "from nltk.corpus import words\n",
        "\n",
        "\n",
        "correct_words = words.words()\n"
      ],
      "metadata": {
        "colab": {
          "base_uri": "https://localhost:8080/"
        },
        "id": "jrjD7czwbxFY",
        "outputId": "1d881fdb-282d-4a85-fd4c-1e490bff0072"
      },
      "execution_count": 40,
      "outputs": [
        {
          "output_type": "stream",
          "name": "stdout",
          "text": [
            "[nltk_data] Downloading package words to /root/nltk_data...\n",
            "[nltk_data]   Package words is already up-to-date!\n"
          ]
        }
      ]
    },
    {
      "cell_type": "code",
      "source": [
        "# list of incorrect spellings\n",
        "# that need to be corrected\n",
        "incorrect_words=['happpy', 'azmaing', 'intelliengt','monney','sadd']\n",
        "\n",
        "# loop for finding correct spellings\n",
        "# based on jaccard distance\n",
        "# and printing the correct word\n",
        "for word in incorrect_words:\n",
        "\ttemp = [(jaccard_distance(set(ngrams(word, 2)),\n",
        "\t\t\t\t\t\t\tset(ngrams(w, 2))),w)\n",
        "\t\t\tfor w in correct_words if w[0]==word[0]]\n",
        "\tprint(sorted(temp, key = lambda val:val[0])[0][1])\n"
      ],
      "metadata": {
        "colab": {
          "base_uri": "https://localhost:8080/"
        },
        "id": "2kR0PzALbzUY",
        "outputId": "2f663a0f-a236-4876-e136-26b6be906dcb"
      },
      "execution_count": 41,
      "outputs": [
        {
          "output_type": "stream",
          "name": "stdout",
          "text": [
            "happy\n",
            "amazing\n",
            "intelligent\n",
            "money\n",
            "sad\n"
          ]
        }
      ]
    },
    {
      "cell_type": "code",
      "source": [
        "!pip install textblob\n"
      ],
      "metadata": {
        "colab": {
          "base_uri": "https://localhost:8080/"
        },
        "id": "6T1grDmcjNbL",
        "outputId": "ef2421e9-fb9e-4bd3-90a9-7daaa2a8a324"
      },
      "execution_count": 68,
      "outputs": [
        {
          "output_type": "stream",
          "name": "stdout",
          "text": [
            "Looking in indexes: https://pypi.org/simple, https://us-python.pkg.dev/colab-wheels/public/simple/\n",
            "Requirement already satisfied: textblob in /usr/local/lib/python3.7/dist-packages (0.15.3)\n",
            "Requirement already satisfied: nltk>=3.1 in /usr/local/lib/python3.7/dist-packages (from textblob) (3.2.5)\n",
            "Requirement already satisfied: six in /usr/local/lib/python3.7/dist-packages (from nltk>=3.1->textblob) (1.15.0)\n"
          ]
        }
      ]
    },
    {
      "cell_type": "code",
      "source": [
        "from textblob import TextBlob\n",
        "text= TextBlob('he is a gret peron')\n",
        "print(text.correct())"
      ],
      "metadata": {
        "colab": {
          "base_uri": "https://localhost:8080/"
        },
        "id": "mzdmiQ1bi2-H",
        "outputId": "636ab661-d9b2-419b-9c91-345ea07ccfe3"
      },
      "execution_count": 72,
      "outputs": [
        {
          "output_type": "stream",
          "name": "stdout",
          "text": [
            "he is an great person\n"
          ]
        }
      ]
    }
  ]
}