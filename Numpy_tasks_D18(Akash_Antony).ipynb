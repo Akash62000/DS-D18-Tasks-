{
  "cells": [
    {
      "cell_type": "markdown",
      "metadata": {
        "id": "VYTZhRs5Tnf0"
      },
      "source": [
        "# Numpy\n",
        "\n"
      ]
    },
    {
      "cell_type": "markdown",
      "metadata": {
        "id": "YP7u1citTnf_"
      },
      "source": [
        "#### 1. Import the numpy package under the name `np` (★☆☆) \n",
        "(**hint**: import … as …)"
      ]
    },
    {
      "cell_type": "code",
      "execution_count": null,
      "metadata": {
        "collapsed": true,
        "id": "9AQ7ivDoTngC"
      },
      "outputs": [],
      "source": [
        "import numpy as np"
      ]
    },
    {
      "cell_type": "markdown",
      "metadata": {
        "id": "kAxQeDD3TngD"
      },
      "source": [
        "#### 2. Print the numpy version and the configuration (★☆☆) \n",
        "(**hint**: np.\\_\\_version\\_\\_, np.show\\_config)"
      ]
    },
    {
      "cell_type": "code",
      "execution_count": null,
      "metadata": {
        "id": "DaAX8NYBTngF",
        "outputId": "0a47ef99-0a28-4644-eb2d-2aa47fafe62b",
        "colab": {
          "base_uri": "https://localhost:8080/",
          "height": 35
        }
      },
      "outputs": [
        {
          "output_type": "execute_result",
          "data": {
            "application/vnd.google.colaboratory.intrinsic+json": {
              "type": "string"
            },
            "text/plain": [
              "'1.19.5'"
            ]
          },
          "metadata": {},
          "execution_count": 2
        }
      ],
      "source": [
        "np.__version__"
      ]
    },
    {
      "cell_type": "markdown",
      "metadata": {
        "id": "UpFc5a19TngG"
      },
      "source": [
        "#### 3. Create a null vector of size 10 (★☆☆) \n",
        "(**hint**: np.zeros)"
      ]
    },
    {
      "cell_type": "code",
      "execution_count": null,
      "metadata": {
        "id": "wertqsdqTngI",
        "outputId": "b94593b7-15fc-4872-bac3-d01e1ca96bb9",
        "colab": {
          "base_uri": "https://localhost:8080/"
        }
      },
      "outputs": [
        {
          "output_type": "execute_result",
          "data": {
            "text/plain": [
              "array([0., 0., 0., 0., 0., 0., 0., 0., 0., 0.])"
            ]
          },
          "metadata": {},
          "execution_count": 3
        }
      ],
      "source": [
        "NV=np.zeros(10)\n",
        "NV"
      ]
    },
    {
      "cell_type": "markdown",
      "metadata": {
        "id": "nDIVWmI-TngK"
      },
      "source": [
        "#### 4.  How to find the memory size of any array (★☆☆) \n",
        "(**hint**: size, itemsize)"
      ]
    },
    {
      "cell_type": "code",
      "execution_count": null,
      "metadata": {
        "id": "HHU6K_hiTngL",
        "outputId": "97bd0e56-2b8d-483e-98ce-5fdbd0eb9109",
        "colab": {
          "base_uri": "https://localhost:8080/"
        }
      },
      "outputs": [
        {
          "output_type": "execute_result",
          "data": {
            "text/plain": [
              "10"
            ]
          },
          "metadata": {},
          "execution_count": 4
        }
      ],
      "source": [
        "np.size(NV)"
      ]
    },
    {
      "cell_type": "markdown",
      "metadata": {
        "id": "MJShEoFdTngM"
      },
      "source": [
        "#### 5.  How to get the documentation of the numpy add function from the command line? (★☆☆) \n",
        "(**hint**: np.info)"
      ]
    },
    {
      "cell_type": "code",
      "execution_count": null,
      "metadata": {
        "collapsed": true,
        "id": "2KH4ii4_TngN",
        "outputId": "026b81b8-ece2-4cf3-a39f-1e9048d1b83b",
        "colab": {
          "base_uri": "https://localhost:8080/"
        }
      },
      "outputs": [
        {
          "output_type": "stream",
          "name": "stdout",
          "text": [
            "None\n"
          ]
        }
      ],
      "source": [
        "print(np.info(np.add))"
      ]
    },
    {
      "cell_type": "markdown",
      "metadata": {
        "id": "R2t-bYFkTngO"
      },
      "source": [
        "#### 6.  Create a null vector of size 10 but the fifth value which is 1 (★☆☆) \n",
        "(**hint**: array\\[4\\])"
      ]
    },
    {
      "cell_type": "code",
      "execution_count": null,
      "metadata": {
        "id": "fUIg8fdBTngP",
        "outputId": "fdea6e84-1d65-4a38-88fe-7ebf583efff9",
        "colab": {
          "base_uri": "https://localhost:8080/"
        }
      },
      "outputs": [
        {
          "output_type": "execute_result",
          "data": {
            "text/plain": [
              "array([0., 0., 0., 0., 1., 0., 0., 0., 0., 0.])"
            ]
          },
          "metadata": {},
          "execution_count": 6
        }
      ],
      "source": [
        "arr=np.zeros(10)\n",
        "arr[4]=1\n",
        "arr"
      ]
    },
    {
      "cell_type": "markdown",
      "metadata": {
        "id": "ORYId5WsTngP"
      },
      "source": [
        "#### 7.  Create a vector with values ranging from 10 to 49 (★☆☆) \n",
        "(**hint**: np.arange)"
      ]
    },
    {
      "cell_type": "code",
      "execution_count": null,
      "metadata": {
        "id": "C1GEYsEcTngQ",
        "outputId": "03967013-11b1-4172-8643-9534931b6d70",
        "colab": {
          "base_uri": "https://localhost:8080/"
        }
      },
      "outputs": [
        {
          "output_type": "execute_result",
          "data": {
            "text/plain": [
              "array([10, 11, 12, 13, 14, 15, 16, 17, 18, 19, 20, 21, 22, 23, 24, 25, 26,\n",
              "       27, 28, 29, 30, 31, 32, 33, 34, 35, 36, 37, 38, 39, 40, 41, 42, 43,\n",
              "       44, 45, 46, 47, 48, 49])"
            ]
          },
          "metadata": {},
          "execution_count": 7
        }
      ],
      "source": [
        "np.arange(10,50)"
      ]
    },
    {
      "cell_type": "markdown",
      "metadata": {
        "id": "pHWZxnB3TngR"
      },
      "source": [
        "#### 8.  Reverse a vector (first element becomes last) (★☆☆) \n",
        "(**hint**: array\\[::-1\\])"
      ]
    },
    {
      "cell_type": "code",
      "execution_count": null,
      "metadata": {
        "id": "8PFzTk4GTngR",
        "outputId": "38077556-3d4e-45c7-b3dd-59d146ba1b71",
        "colab": {
          "base_uri": "https://localhost:8080/"
        }
      },
      "outputs": [
        {
          "output_type": "execute_result",
          "data": {
            "text/plain": [
              "array([10,  9,  8,  7,  6,  5,  4,  3,  2,  1])"
            ]
          },
          "metadata": {},
          "execution_count": 8
        }
      ],
      "source": [
        "x=np.arange(1,11)\n",
        "x[::-1]"
      ]
    },
    {
      "cell_type": "markdown",
      "metadata": {
        "id": "khvOgSaeTngR"
      },
      "source": [
        "#### 9.  Create a 3x3 matrix with values ranging from 0 to 8 (★☆☆) \n",
        "(**hint**: reshape)"
      ]
    },
    {
      "cell_type": "code",
      "execution_count": null,
      "metadata": {
        "id": "tBeNRmICTngS",
        "colab": {
          "base_uri": "https://localhost:8080/"
        },
        "outputId": "0e6a7087-9a64-4cdf-c025-18489b7dc7ec"
      },
      "outputs": [
        {
          "output_type": "execute_result",
          "data": {
            "text/plain": [
              "array([[0, 1, 2],\n",
              "       [3, 4, 5],\n",
              "       [6, 7, 8]])"
            ]
          },
          "metadata": {},
          "execution_count": 9
        }
      ],
      "source": [
        "ar=np.arange(0,9).reshape(3,3)\n",
        "ar"
      ]
    },
    {
      "cell_type": "markdown",
      "metadata": {
        "id": "TH2FdV5OTngT"
      },
      "source": [
        "#### 10. Find indices of non-zero elements from \\[1,2,0,0,4,0\\] (★☆☆) \n",
        "(**hint**: np.nonzero)"
      ]
    },
    {
      "cell_type": "code",
      "execution_count": null,
      "metadata": {
        "id": "4r5JWZ7iTngT",
        "colab": {
          "base_uri": "https://localhost:8080/"
        },
        "outputId": "12882526-e0d0-4618-b960-194483b84daa"
      },
      "outputs": [
        {
          "output_type": "execute_result",
          "data": {
            "text/plain": [
              "(array([0, 1, 4]),)"
            ]
          },
          "metadata": {},
          "execution_count": 10
        }
      ],
      "source": [
        "ar=[1,2,0,0,4,0] \n",
        "idx=np.nonzero(ar)\n",
        "idx"
      ]
    },
    {
      "cell_type": "markdown",
      "metadata": {
        "id": "R3-OzHB0TngU"
      },
      "source": [
        "#### 11. Create a 3x3 identity matrix (★☆☆) \n",
        "(**hint**: np.eye)"
      ]
    },
    {
      "cell_type": "code",
      "execution_count": null,
      "metadata": {
        "id": "EszwYQmgTngU",
        "colab": {
          "base_uri": "https://localhost:8080/"
        },
        "outputId": "5916bf69-0b25-493e-85bf-b9ccbaa581c4"
      },
      "outputs": [
        {
          "output_type": "execute_result",
          "data": {
            "text/plain": [
              "array([[1., 0., 0.],\n",
              "       [0., 1., 0.],\n",
              "       [0., 0., 1.]])"
            ]
          },
          "metadata": {},
          "execution_count": 11
        }
      ],
      "source": [
        "Imtx=np.eye(3,3)\n",
        "Imtx"
      ]
    },
    {
      "cell_type": "markdown",
      "metadata": {
        "id": "YlwYOKrdTngU"
      },
      "source": [
        "#### 12. Create a 3x3x3 array with random values (★☆☆) \n",
        "(**hint**: np.random.random)"
      ]
    },
    {
      "cell_type": "code",
      "execution_count": null,
      "metadata": {
        "collapsed": true,
        "id": "eYpcZf8kTngV",
        "colab": {
          "base_uri": "https://localhost:8080/"
        },
        "outputId": "26b89d94-a6dd-43cb-dd70-372d2d2ee9b0"
      },
      "outputs": [
        {
          "output_type": "execute_result",
          "data": {
            "text/plain": [
              "array([[[0.04701267, 0.51225112, 0.2769869 ],\n",
              "        [0.58131997, 0.66145186, 0.27917987],\n",
              "        [0.8420352 , 0.51306167, 0.76355295]],\n",
              "\n",
              "       [[0.65601857, 0.84013581, 0.34468536],\n",
              "        [0.81287541, 0.67856281, 0.19418997],\n",
              "        [0.7662799 , 0.4224386 , 0.98853274]],\n",
              "\n",
              "       [[0.44010036, 0.58793438, 0.33239604],\n",
              "        [0.98838726, 0.56642699, 0.56619195],\n",
              "        [0.79248648, 0.75264882, 0.62664471]]])"
            ]
          },
          "metadata": {},
          "execution_count": 12
        }
      ],
      "source": [
        "np.random.random((3,3,3))"
      ]
    },
    {
      "cell_type": "markdown",
      "metadata": {
        "id": "3rKLWQfnTngV"
      },
      "source": [
        "#### 13. Create a 10x10 array with random values and find the minimum and maximum values (★☆☆) \n",
        "(**hint**: min, max)"
      ]
    },
    {
      "cell_type": "code",
      "execution_count": null,
      "metadata": {
        "id": "ACZh9Pr-TngV",
        "colab": {
          "base_uri": "https://localhost:8080/"
        },
        "outputId": "6b48e9e6-d299-40c9-a04b-70f189e1b0b9"
      },
      "outputs": [
        {
          "output_type": "stream",
          "name": "stdout",
          "text": [
            "[[0.85776242 0.06537881 0.42542726 0.56994339 0.494001   0.92445551\n",
            "  0.6575317  0.67886375 0.684013   0.90094236]\n",
            " [0.19027811 0.63787514 0.40157416 0.79205266 0.08525097 0.14023828\n",
            "  0.7544354  0.92700108 0.5501176  0.86304341]\n",
            " [0.86893422 0.72185164 0.70131438 0.78696758 0.43160239 0.35545844\n",
            "  0.72818598 0.62011631 0.07379028 0.96762059]\n",
            " [0.35152391 0.36934196 0.49593024 0.42033717 0.00394931 0.62661257\n",
            "  0.68021484 0.47925477 0.56963093 0.62372719]\n",
            " [0.49624201 0.66566051 0.88885893 0.88368515 0.28505931 0.71235923\n",
            "  0.88180178 0.82167916 0.63937472 0.03237263]\n",
            " [0.8862563  0.37785442 0.51403407 0.77650578 0.08705761 0.90384128\n",
            "  0.76848322 0.26020913 0.53484702 0.87931592]\n",
            " [0.9669354  0.65723485 0.24249971 0.15386301 0.10648625 0.22788749\n",
            "  0.61035925 0.06729382 0.34279999 0.30730411]\n",
            " [0.74246633 0.57607376 0.48929751 0.78359501 0.5810888  0.78390107\n",
            "  0.62687903 0.39372867 0.82487883 0.82233911]\n",
            " [0.49226186 0.56662516 0.50920985 0.42919385 0.06851799 0.73645808\n",
            "  0.96242738 0.45017205 0.54930908 0.69813474]\n",
            " [0.75313698 0.01384274 0.5629529  0.68195879 0.52935818 0.44030963\n",
            "  0.87209382 0.05339815 0.29843167 0.68433795]]\n",
            "min= 0.0039493148488534136 max= 0.9676205860729274\n"
          ]
        }
      ],
      "source": [
        "ar=np.random.random((10,10))\n",
        "x,y=np.min(ar),np.max(ar)\n",
        "print(ar)\n",
        "print('min=',x,'max=',y)"
      ]
    },
    {
      "cell_type": "markdown",
      "metadata": {
        "id": "zc6_F1ztTngV"
      },
      "source": [
        "#### 14. Create a random vector of size 30 and find the mean value (★☆☆) \n",
        "(**hint**: mean)"
      ]
    },
    {
      "cell_type": "code",
      "execution_count": null,
      "metadata": {
        "id": "flfopEYsTngW",
        "colab": {
          "base_uri": "https://localhost:8080/"
        },
        "outputId": "4bf7279d-69b2-4407-f8e4-ec4dfbe9bcfa"
      },
      "outputs": [
        {
          "output_type": "stream",
          "name": "stdout",
          "text": [
            "[0.00580692 0.6486116  0.82706216 0.75485193 0.46500133 0.35177774\n",
            " 0.66956894 0.72693779 0.26869262 0.9260816  0.06597864 0.85850508\n",
            " 0.86327815 0.70856357 0.08179832 0.97939714 0.33031196 0.59282439\n",
            " 0.72314342 0.66450446 0.00981474 0.17945988 0.86106698 0.94255326\n",
            " 0.35772637 0.19568398 0.95799368 0.16929405 0.12807353 0.98662777] \n",
            " mean= 0.5433663996846309\n"
          ]
        }
      ],
      "source": [
        "ar=np.random.random((30))\n",
        "m=np.mean(ar)\n",
        "print(ar,'\\n','mean=',m)"
      ]
    },
    {
      "cell_type": "markdown",
      "metadata": {
        "id": "ik6wpSHrTngW"
      },
      "source": [
        "#### 15. Create a 2d array with 1 on the border and 0 inside (★☆☆) \n",
        "(**hint**: array\\[1:-1, 1:-1\\])"
      ]
    },
    {
      "cell_type": "code",
      "execution_count": null,
      "metadata": {
        "id": "7A2Wb_ggTngW",
        "colab": {
          "base_uri": "https://localhost:8080/"
        },
        "outputId": "13b1f5bb-47be-452d-86d5-13bb42baf63d"
      },
      "outputs": [
        {
          "output_type": "stream",
          "name": "stdout",
          "text": [
            "[[1. 1. 1. 1. 1. 1.]\n",
            " [1. 0. 0. 0. 0. 1.]\n",
            " [1. 0. 0. 0. 0. 1.]\n",
            " [1. 0. 0. 0. 0. 1.]\n",
            " [1. 0. 0. 0. 0. 1.]\n",
            " [1. 1. 1. 1. 1. 1.]]\n"
          ]
        }
      ],
      "source": [
        "ar=np.ones((6,6))\n",
        "ar[1:-1,1:-1]=0 #or ar[1:5,1:5]=0 i.e, len-1\n",
        "print(ar)"
      ]
    },
    {
      "cell_type": "markdown",
      "metadata": {
        "id": "P894z5SQTngW"
      },
      "source": [
        "#### 16. How to add a border (filled with 0's) around an existing array? (★☆☆) \n",
        "(**hint**: np.pad)"
      ]
    },
    {
      "cell_type": "code",
      "execution_count": null,
      "metadata": {
        "id": "sfs4GGO5TngX",
        "colab": {
          "base_uri": "https://localhost:8080/"
        },
        "outputId": "2224e262-f813-4e6d-96ff-432a2c9d2a56"
      },
      "outputs": [
        {
          "output_type": "execute_result",
          "data": {
            "text/plain": [
              "array([[0., 0., 0., 0., 0., 0., 0.],\n",
              "       [0., 1., 1., 1., 1., 1., 0.],\n",
              "       [0., 1., 1., 1., 1., 1., 0.],\n",
              "       [0., 1., 1., 1., 1., 1., 0.],\n",
              "       [0., 1., 1., 1., 1., 1., 0.],\n",
              "       [0., 1., 1., 1., 1., 1., 0.],\n",
              "       [0., 0., 0., 0., 0., 0., 0.]])"
            ]
          },
          "metadata": {},
          "execution_count": 16
        }
      ],
      "source": [
        "ar=np.ones((5,5))\n",
        "ar=np.pad(ar,pad_width=1,mode='constant',constant_values=0)\n",
        "ar"
      ]
    },
    {
      "cell_type": "markdown",
      "metadata": {
        "id": "tRdfymCeTngX"
      },
      "source": [
        "#### 17. What is the result of the following expression? (★☆☆) \n",
        "(**hint**: NaN = not a number, inf = infinity)"
      ]
    },
    {
      "cell_type": "markdown",
      "metadata": {
        "id": "gfWTABDoTngX"
      },
      "source": [
        "```python\n",
        "0 * np.nan\n",
        "np.nan == np.nan\n",
        "np.inf > np.nan\n",
        "np.nan - np.nan\n",
        "0.3 == 3 * 0.1\n",
        "```"
      ]
    },
    {
      "cell_type": "code",
      "execution_count": null,
      "metadata": {
        "id": "5Fja_1Q2TngX",
        "colab": {
          "base_uri": "https://localhost:8080/"
        },
        "outputId": "ff86f3c7-0a97-4d50-8788-e1a98ebcc9d1"
      },
      "outputs": [
        {
          "output_type": "execute_result",
          "data": {
            "text/plain": [
              "[nan, False, False, nan, False]"
            ]
          },
          "metadata": {},
          "execution_count": 17
        }
      ],
      "source": [
        "l=[]\n",
        "l.append(0*np.nan)\n",
        "l.append(np.nan==np.nan)\n",
        "l.append(np.inf > np.nan)\n",
        "l.append(np.nan - np.nan)\n",
        "l.append(0.3==3*0.1)\n",
        "l"
      ]
    },
    {
      "cell_type": "markdown",
      "metadata": {
        "id": "FeSkUv3cTngY"
      },
      "source": [
        "#### 18. Create a 5x5 matrix with values 1,2,3,4 just below the diagonal (★☆☆) \n",
        "(**hint**: np.diag)"
      ]
    },
    {
      "cell_type": "code",
      "execution_count": null,
      "metadata": {
        "id": "wLgh6-qaTngY",
        "colab": {
          "base_uri": "https://localhost:8080/"
        },
        "outputId": "3ca7ff3d-d83b-4912-dac1-6271321c6a59"
      },
      "outputs": [
        {
          "output_type": "execute_result",
          "data": {
            "text/plain": [
              "array([[1, 0, 0, 0, 0],\n",
              "       [0, 2, 0, 0, 0],\n",
              "       [0, 0, 3, 0, 0],\n",
              "       [0, 0, 0, 4, 0],\n",
              "       [0, 0, 0, 0, 5]])"
            ]
          },
          "metadata": {},
          "execution_count": 18
        }
      ],
      "source": [
        "ar=[1,2,3,4,5]\n",
        "np.diag(ar)"
      ]
    },
    {
      "cell_type": "markdown",
      "metadata": {
        "id": "Icy3_4EUTngY"
      },
      "source": [
        "#### 19. Create a 8x8 matrix and fill it with a checkerboard pattern (★☆☆) \n",
        "(**hint**: array\\[::2\\])"
      ]
    },
    {
      "cell_type": "code",
      "execution_count": null,
      "metadata": {
        "id": "KQw-kWajTngY",
        "colab": {
          "base_uri": "https://localhost:8080/"
        },
        "outputId": "e7b308fc-8dc3-42af-c3b2-0bb01cab3edc"
      },
      "outputs": [
        {
          "output_type": "execute_result",
          "data": {
            "text/plain": [
              "array([[0, 1, 0, 1, 0, 1, 0, 1],\n",
              "       [1, 0, 1, 0, 1, 0, 1, 0],\n",
              "       [0, 1, 0, 1, 0, 1, 0, 1],\n",
              "       [1, 0, 1, 0, 1, 0, 1, 0],\n",
              "       [0, 1, 0, 1, 0, 1, 0, 1],\n",
              "       [1, 0, 1, 0, 1, 0, 1, 0],\n",
              "       [0, 1, 0, 1, 0, 1, 0, 1],\n",
              "       [1, 0, 1, 0, 1, 0, 1, 0]])"
            ]
          },
          "metadata": {},
          "execution_count": 19
        }
      ],
      "source": [
        "ar=np.zeros((8,8),dtype=int)\n",
        "ar[1::2,::2]=1\n",
        "ar[::2,1::2]=1\n",
        "ar"
      ]
    },
    {
      "cell_type": "markdown",
      "metadata": {
        "id": "9tZ7LK5xTngZ"
      },
      "source": [
        "#### 20. Consider a (6,7,8) shape array, what is the index (x,y,z) of the 100th element? \n",
        "(**hint**: np.unravel_index)"
      ]
    },
    {
      "cell_type": "code",
      "execution_count": null,
      "metadata": {
        "id": "ooPrMdklTngZ",
        "colab": {
          "base_uri": "https://localhost:8080/"
        },
        "outputId": "374eab46-7d93-49f0-8143-afcbc5f76eae"
      },
      "outputs": [
        {
          "output_type": "execute_result",
          "data": {
            "text/plain": [
              "(1, 5, 4)"
            ]
          },
          "metadata": {},
          "execution_count": 20
        }
      ],
      "source": [
        "np.unravel_index(100,(6,7,8))"
      ]
    },
    {
      "cell_type": "markdown",
      "metadata": {
        "id": "aweB4ALATngZ"
      },
      "source": [
        "#### 21. Create a checkerboard 8x8 matrix using the tile function (★☆☆) \n",
        "(**hint**: np.tile)"
      ]
    },
    {
      "cell_type": "code",
      "execution_count": null,
      "metadata": {
        "id": "6aAYuxUZTngZ",
        "colab": {
          "base_uri": "https://localhost:8080/"
        },
        "outputId": "ad69a6b0-8db0-468b-e2b8-b40f40b69dc2"
      },
      "outputs": [
        {
          "output_type": "execute_result",
          "data": {
            "text/plain": [
              "array([[0, 1, 0, 1, 0, 1, 0, 1],\n",
              "       [1, 0, 1, 0, 1, 0, 1, 0],\n",
              "       [0, 1, 0, 1, 0, 1, 0, 1],\n",
              "       [1, 0, 1, 0, 1, 0, 1, 0],\n",
              "       [0, 1, 0, 1, 0, 1, 0, 1],\n",
              "       [1, 0, 1, 0, 1, 0, 1, 0],\n",
              "       [0, 1, 0, 1, 0, 1, 0, 1],\n",
              "       [1, 0, 1, 0, 1, 0, 1, 0]])"
            ]
          },
          "metadata": {},
          "execution_count": 21
        }
      ],
      "source": [
        "arr=np.array([[0,1],[1,0]])\n",
        "np.tile(arr,(4,4))"
      ]
    },
    {
      "cell_type": "markdown",
      "metadata": {
        "id": "8aOwvga1Tnga"
      },
      "source": [
        "#### 22. Normalize a 5x5 random matrix (★☆☆) \n",
        "(**hint**: (x - min) / (max - min))"
      ]
    },
    {
      "cell_type": "code",
      "execution_count": null,
      "metadata": {
        "id": "s5Jjo6bwTnga",
        "colab": {
          "base_uri": "https://localhost:8080/"
        },
        "outputId": "14b93c25-5aa2-45c6-a65a-38e5bb0579d4"
      },
      "outputs": [
        {
          "output_type": "execute_result",
          "data": {
            "text/plain": [
              "array([[0.30935147, 0.67547543, 0.90820125, 0.15763959, 0.98714076],\n",
              "       [0.50196583, 0.37950078, 0.92599517, 0.80245439, 0.6212157 ],\n",
              "       [0.36371723, 0.4627252 , 0.54203458, 0.27547511, 0.1487382 ],\n",
              "       [0.13161611, 0.09415581, 0.08441485, 0.9106578 , 0.23273651],\n",
              "       [0.        , 0.74631187, 0.31175595, 0.95046827, 1.        ]])"
            ]
          },
          "metadata": {},
          "execution_count": 22
        }
      ],
      "source": [
        "N = np.random.random((5,5))\n",
        "Nmax, Nmin = N.max(), N.min()\n",
        "N= ((N-Nmin)/(Nmax-Nmin))\n",
        "N"
      ]
    },
    {
      "cell_type": "markdown",
      "metadata": {
        "id": "3yhhzF7GTnga"
      },
      "source": [
        "#### 23. Create a custom dtype that describes a color as four unsigned bytes (RGBA) (★☆☆) \n",
        "(**hint**: np.dtype)"
      ]
    },
    {
      "cell_type": "code",
      "execution_count": null,
      "metadata": {
        "collapsed": true,
        "id": "FzfhpKj9Tnga",
        "colab": {
          "base_uri": "https://localhost:8080/"
        },
        "outputId": "26241c32-d437-44af-b18d-9c0fbd1385dc"
      },
      "outputs": [
        {
          "output_type": "stream",
          "name": "stdout",
          "text": [
            "[('R', 'u1'), ('G', 'u1', (2,)), ('B', 'u1', (3,)), ('A', 'u1', (4,))]\n"
          ]
        },
        {
          "output_type": "stream",
          "name": "stderr",
          "text": [
            "/usr/local/lib/python3.7/dist-packages/ipykernel_launcher.py:4: FutureWarning: Passing (type, 1) or '1type' as a synonym of type is deprecated; in a future version of numpy, it will be understood as (type, (1,)) / '(1,)type'.\n",
            "  after removing the cwd from sys.path.\n"
          ]
        }
      ],
      "source": [
        "colour = np.dtype([(\"R\", np.ubyte, 1),\n",
        "                  (\"G\", np.ubyte, 2),\n",
        "                  (\"B\", np.ubyte, 3),\n",
        "                  (\"A\", np.ubyte, 4)])\n",
        "print(colour)"
      ]
    },
    {
      "cell_type": "markdown",
      "metadata": {
        "id": "VsVYBLS-Tnga"
      },
      "source": [
        "#### 24. Multiply a 5x3 matrix by a 3x2 matrix (real matrix product) (★☆☆) \n",
        "(**hint**: np.dot | @)"
      ]
    },
    {
      "cell_type": "code",
      "execution_count": null,
      "metadata": {
        "id": "Ez6x90k4Tnga",
        "colab": {
          "base_uri": "https://localhost:8080/"
        },
        "outputId": "ad693233-060b-4b25-985e-1c52deaab159"
      },
      "outputs": [
        {
          "output_type": "execute_result",
          "data": {
            "text/plain": [
              "array([[3., 3.],\n",
              "       [3., 3.],\n",
              "       [3., 3.],\n",
              "       [3., 3.],\n",
              "       [3., 3.]])"
            ]
          },
          "metadata": {},
          "execution_count": 24
        }
      ],
      "source": [
        "Mul= np.dot(np.ones((5,3)), np.ones((3,2)))\n",
        "Mul"
      ]
    },
    {
      "cell_type": "markdown",
      "metadata": {
        "id": "PyVO9l_WTngb"
      },
      "source": [
        "#### 25. Given a 1D array, negate all elements which are between 3 and 8, in place. (★☆☆) \n",
        "(**hint**: >, <=)"
      ]
    },
    {
      "cell_type": "code",
      "execution_count": null,
      "metadata": {
        "id": "ij-K7QnwTngb",
        "colab": {
          "base_uri": "https://localhost:8080/"
        },
        "outputId": "56639c32-1b15-4589-8050-03c30c7e1a56"
      },
      "outputs": [
        {
          "output_type": "execute_result",
          "data": {
            "text/plain": [
              "array([ 1,  2,  0,  0,  0,  0,  0,  0,  9, 10])"
            ]
          },
          "metadata": {},
          "execution_count": 25
        }
      ],
      "source": [
        "x = np.arange(1,11)\n",
        "x[(x > 2) & (x <= 8)] = 0\n",
        "x"
      ]
    },
    {
      "cell_type": "markdown",
      "metadata": {
        "id": "84CaLdWrTngb"
      },
      "source": [
        "#### 26. What is the output of the following script? (★☆☆) \n",
        "(**hint**: np.sum)"
      ]
    },
    {
      "cell_type": "markdown",
      "metadata": {
        "id": "TkFcLXgCTngc"
      },
      "source": [
        "```python\n",
        "# Author: Jake VanderPlas\n",
        "\n",
        "print(sum(range(5),-1))\n",
        "from numpy import *\n",
        "print(sum(range(5),-1))\n",
        "```"
      ]
    },
    {
      "cell_type": "code",
      "source": [
        "print(sum(range(5),-1))#9\n",
        "from numpy import *\n",
        "print(sum(range(5),-1))#10"
      ],
      "metadata": {
        "id": "LRje1-AnST7y",
        "colab": {
          "base_uri": "https://localhost:8080/"
        },
        "outputId": "3e491c23-7875-4eed-b815-be8cb5f808f3"
      },
      "execution_count": null,
      "outputs": [
        {
          "output_type": "stream",
          "name": "stdout",
          "text": [
            "9\n",
            "10\n"
          ]
        }
      ]
    },
    {
      "cell_type": "markdown",
      "metadata": {
        "id": "S_y4afxcTngc"
      },
      "source": [
        "#### 27. Consider an integer vector Z, which of these expressions are legal? (★☆☆)"
      ]
    },
    {
      "cell_type": "markdown",
      "metadata": {
        "id": "8Bel1HWKTngd"
      },
      "source": [
        "```python\n",
        "Z**Z\n",
        "2 << Z >> 2\n",
        "Z <- Z\n",
        "1j*Z\n",
        "Z/1/1\n",
        "Z<Z>Z\n",
        "```"
      ]
    },
    {
      "cell_type": "code",
      "execution_count": null,
      "metadata": {
        "id": "U7JOG_sITngd",
        "colab": {
          "base_uri": "https://localhost:8080/"
        },
        "outputId": "86463c9f-bb16-4ed3-abe2-06f69662984d"
      },
      "outputs": [
        {
          "output_type": "execute_result",
          "data": {
            "text/plain": [
              "[array([ 1,  4, 27]),\n",
              " array([1, 2, 4]),\n",
              " array([False, False, False]),\n",
              " array([0.+1.j, 0.+2.j, 0.+3.j]),\n",
              " array([1., 2., 3.])]"
            ]
          },
          "metadata": {},
          "execution_count": 27
        }
      ],
      "source": [
        "Z = np.arange(1,4)\n",
        "L=[]\n",
        "L.append(Z**Z)\n",
        "L.append(2<<Z>>2)\n",
        "L.append(Z<-Z)\n",
        "L.append(1j*Z)\n",
        "L.append(Z/1/1)\n",
        "# Z<Z>Z this expression is not legal because it throws \"ValueError: The truth value of an array with more than one element is ambiguous. Use a.any() or a.all()\"\n",
        "L"
      ]
    },
    {
      "cell_type": "markdown",
      "metadata": {
        "id": "1NTyirr9Tngd"
      },
      "source": [
        "#### 28. What are the result of the following expressions?"
      ]
    },
    {
      "cell_type": "markdown",
      "metadata": {
        "id": "Y0dMBfvrTngd"
      },
      "source": [
        "```python\n",
        "np.array(0) / np.array(0)\n",
        "np.array(0) // np.array(0)\n",
        "np.array([np.nan]).astype(int).astype(float)\n",
        "```"
      ]
    },
    {
      "cell_type": "code",
      "execution_count": null,
      "metadata": {
        "id": "YIndOEFDTnge",
        "colab": {
          "base_uri": "https://localhost:8080/"
        },
        "outputId": "44fa632d-8ce9-43f3-89f5-299f57ea9663"
      },
      "outputs": [
        {
          "output_type": "stream",
          "name": "stdout",
          "text": [
            "nan\n",
            "0\n",
            "[-9.22337204e+18]\n"
          ]
        },
        {
          "output_type": "stream",
          "name": "stderr",
          "text": [
            "/usr/local/lib/python3.7/dist-packages/ipykernel_launcher.py:1: RuntimeWarning: invalid value encountered in true_divide\n",
            "  \"\"\"Entry point for launching an IPython kernel.\n",
            "/usr/local/lib/python3.7/dist-packages/ipykernel_launcher.py:2: RuntimeWarning: divide by zero encountered in floor_divide\n",
            "  \n"
          ]
        }
      ],
      "source": [
        "print(np.array(0) / np.array(0))#=nan\n",
        "print(np.array(0) // np.array(0))#=0\n",
        "print(np.array([np.nan]).astype(int).astype(float))#=array([-9.22337204e+18])"
      ]
    },
    {
      "cell_type": "markdown",
      "metadata": {
        "id": "zJoF5sFbTnge"
      },
      "source": [
        "#### 29. How to round away from zero a float array ? (★☆☆) \n",
        "(**hint**: np.uniform, np.copysign, np.ceil, np.abs)"
      ]
    },
    {
      "cell_type": "code",
      "execution_count": null,
      "metadata": {
        "id": "-JxcdsTwTnge",
        "colab": {
          "base_uri": "https://localhost:8080/"
        },
        "outputId": "4904f3b7-fc75-415e-96ba-3641cc993420"
      },
      "outputs": [
        {
          "output_type": "stream",
          "name": "stdout",
          "text": [
            "[1.09768, 10.8758, 15.18762, 19.2768, -120.2786]\n"
          ]
        },
        {
          "output_type": "execute_result",
          "data": {
            "text/plain": [
              "array([   2.,   11.,   16.,   20., -121.])"
            ]
          },
          "metadata": {},
          "execution_count": 29
        }
      ],
      "source": [
        "x = [1.09768,10.8758,15.18762,19.2768,-120.2786]\n",
        "print(x)\n",
        "np.copysign(np.ceil(np.abs(x)), x)"
      ]
    },
    {
      "cell_type": "markdown",
      "metadata": {
        "id": "7upQec4LTnge"
      },
      "source": [
        "#### 30. How to find common values between two arrays? (★☆☆) \n",
        "(**hint**: np.intersect1d)"
      ]
    },
    {
      "cell_type": "code",
      "execution_count": null,
      "metadata": {
        "id": "xS2S_ciDTngf",
        "colab": {
          "base_uri": "https://localhost:8080/"
        },
        "outputId": "f682863e-8134-4e99-9177-5f24dbe39f8c"
      },
      "outputs": [
        {
          "output_type": "stream",
          "name": "stdout",
          "text": [
            "[20 21 22 23 24 25 26 27 28 29 30 31 32 33 34] [25 26 27 28 29 30 31 32 33 34 35 36 37 38 39]\n"
          ]
        },
        {
          "output_type": "execute_result",
          "data": {
            "text/plain": [
              "array([25, 26, 27, 28, 29, 30, 31, 32, 33, 34])"
            ]
          },
          "metadata": {},
          "execution_count": 30
        }
      ],
      "source": [
        "a = np.arange(20, 35)\n",
        "b = np.arange(25, 40)\n",
        "print(a,b)\n",
        "np.intersect1d(a, b)"
      ]
    },
    {
      "cell_type": "markdown",
      "metadata": {
        "id": "W2JsqPP-Tngf"
      },
      "source": [
        "#### 31. How to ignore all numpy warnings (not recommended)? (★☆☆) \n",
        "(**hint**: np.seterr, np.errstate)"
      ]
    },
    {
      "cell_type": "code",
      "execution_count": null,
      "metadata": {
        "id": "90opYWpETngf",
        "colab": {
          "base_uri": "https://localhost:8080/"
        },
        "outputId": "1ffbcccd-4186-4ab6-f51a-221d7ef8c9cb"
      },
      "outputs": [
        {
          "output_type": "execute_result",
          "data": {
            "text/plain": [
              "array([inf])"
            ]
          },
          "metadata": {},
          "execution_count": 31
        }
      ],
      "source": [
        "defaults = np.seterr(all=\"ignore\")\n",
        "ar = np.ones(1) / 0 #since this is infinity its not recomonded but use of np.seterr will allow it.\n",
        "ar"
      ]
    },
    {
      "cell_type": "markdown",
      "metadata": {
        "id": "ka-g2Ay6Tngf"
      },
      "source": [
        "#### 32. Is the following expressions true? (★☆☆) \n",
        "(**hint**: imaginary number)"
      ]
    },
    {
      "cell_type": "markdown",
      "metadata": {
        "id": "ch7tRiFYTngf"
      },
      "source": [
        "```python\n",
        "np.sqrt(-1) == np.emath.sqrt(-1)\n",
        "```"
      ]
    },
    {
      "cell_type": "code",
      "execution_count": null,
      "metadata": {
        "id": "ogBTyH_DTngf",
        "colab": {
          "base_uri": "https://localhost:8080/"
        },
        "outputId": "b9e8f4bc-38bd-495a-f39a-997cbe8f0529"
      },
      "outputs": [
        {
          "output_type": "execute_result",
          "data": {
            "text/plain": [
              "False"
            ]
          },
          "metadata": {},
          "execution_count": 32
        }
      ],
      "source": [
        "np.sqrt(-1) == np.emath.sqrt(-1) #= False"
      ]
    },
    {
      "cell_type": "markdown",
      "metadata": {
        "id": "3sete5suTngf"
      },
      "source": [
        "#### 33. How to get the dates of yesterday, today and tomorrow? (★☆☆) \n",
        "(**hint**: np.datetime64, np.timedelta64)"
      ]
    },
    {
      "cell_type": "code",
      "execution_count": null,
      "metadata": {
        "collapsed": true,
        "id": "9aGvFxjZTngg",
        "colab": {
          "base_uri": "https://localhost:8080/"
        },
        "outputId": "1d9f6104-f3b4-4cc4-95c5-de2c9a5e776c"
      },
      "outputs": [
        {
          "output_type": "stream",
          "name": "stdout",
          "text": [
            " Today=  2022-02-06 \n",
            " Yesterday=  2022-02-05 \n",
            " Tomorrow=  2022-02-07\n"
          ]
        }
      ],
      "source": [
        "x = np.datetime64('today', 'D')\n",
        "y = np.datetime64('today', 'D') - np.timedelta64(1, 'D')\n",
        "z =np.datetime64('today', 'D') + np.timedelta64(1, 'D')\n",
        "print(\" Today= \",x,'\\n',\"Yesterday= \",y,'\\n',\"Tomorrow= \",z)"
      ]
    },
    {
      "cell_type": "markdown",
      "metadata": {
        "id": "9ubXTw6HTngg"
      },
      "source": [
        "#### 34. How to get all the dates corresponding to the month of July 2016? (★★☆) \n",
        "(**hint**: np.arange(dtype=datetime64\\['D'\\]))"
      ]
    },
    {
      "cell_type": "code",
      "execution_count": null,
      "metadata": {
        "id": "J3TiQLuDTngg",
        "colab": {
          "base_uri": "https://localhost:8080/"
        },
        "outputId": "edfc0268-8fe0-4c1c-bbce-92d0ae2c40b5"
      },
      "outputs": [
        {
          "output_type": "execute_result",
          "data": {
            "text/plain": [
              "array(['2016-07-01', '2016-07-02', '2016-07-03', '2016-07-04',\n",
              "       '2016-07-05', '2016-07-06', '2016-07-07', '2016-07-08',\n",
              "       '2016-07-09', '2016-07-10', '2016-07-11', '2016-07-12',\n",
              "       '2016-07-13', '2016-07-14', '2016-07-15', '2016-07-16',\n",
              "       '2016-07-17', '2016-07-18', '2016-07-19', '2016-07-20',\n",
              "       '2016-07-21', '2016-07-22', '2016-07-23', '2016-07-24',\n",
              "       '2016-07-25', '2016-07-26', '2016-07-27', '2016-07-28',\n",
              "       '2016-07-29', '2016-07-30', '2016-07-31'], dtype='datetime64[D]')"
            ]
          },
          "metadata": {},
          "execution_count": 34
        }
      ],
      "source": [
        "np.arange('2016-07', '2016-08', dtype='datetime64[D]')"
      ]
    },
    {
      "cell_type": "markdown",
      "metadata": {
        "id": "TPHS--YbTngg"
      },
      "source": [
        "#### 35. How to compute ((A+B)\\*(-A/2)) in place (without copy)? (★★☆) \n",
        "(**hint**: np.add(out=), np.negative(out=), np.multiply(out=), np.divide(out=))"
      ]
    },
    {
      "cell_type": "code",
      "execution_count": null,
      "metadata": {
        "id": "EeJxzkf_Tngg",
        "colab": {
          "base_uri": "https://localhost:8080/"
        },
        "outputId": "3c22a6aa-716e-4d45-ac7b-167b4f090c8d"
      },
      "outputs": [
        {
          "output_type": "stream",
          "name": "stdout",
          "text": [
            "[10. 10. 10.] [20. 20. 20.] [30. 30. 30.]\n",
            "[30. 30. 30.]\n",
            "[5. 5. 5.]\n",
            "[-5. -5. -5.]\n",
            "((A+B)*(-A/2))= [-150. -150. -150.]\n"
          ]
        }
      ],
      "source": [
        "A = np.ones(3) * 10\n",
        "B = np.ones(3) * 20\n",
        "C = np.ones(3) * 30\n",
        "print(A,B,C)\n",
        "print(np.add(A, B, out=B))\n",
        "print(np.divide(A, 2, out=A))\n",
        "print(np.negative(A, out=A))\n",
        "print('((A+B)*(-A/2))=',np.multiply(A, B, out=A))\n"
      ]
    },
    {
      "cell_type": "markdown",
      "metadata": {
        "id": "62nkMbvGTngg"
      },
      "source": [
        "#### 36. Extract the integer part of a random array using 5 different methods (★★☆) \n",
        "(**hint**: %, np.floor, np.ceil, astype, np.trunc)"
      ]
    },
    {
      "cell_type": "code",
      "execution_count": null,
      "metadata": {
        "id": "jj6uR65YTngg",
        "colab": {
          "base_uri": "https://localhost:8080/"
        },
        "outputId": "9a394430-79b9-444a-af00-aaf26e5e27ca"
      },
      "outputs": [
        {
          "output_type": "stream",
          "name": "stdout",
          "text": [
            "[ 1.87126805  4.86122725 -4.55798096 -3.90089801  4.81151889 -0.20781246\n",
            "  0.48350847 -4.29606394 -4.18423235  2.45328597]\n",
            "[ 1  4 -4 -3  4  0  0 -4 -4  2]\n",
            "[ 1.  4. -4. -3.  4. -0.  0. -4. -4.  2.]\n",
            "[ 1.  4. -5. -4.  4. -1.  0. -5. -5.  2.]\n",
            "[ 2.  5. -4. -3.  5. -0.  1. -4. -4.  3.]\n",
            "[ 0.  0. -0. -0.  0. -0.  0. -0. -0.  0.]\n"
          ]
        }
      ],
      "source": [
        "x = np.random.uniform(-5, +5, 10)\n",
        "print(x)#array\n",
        "print(x.astype(np.int32))#using astype\n",
        "print(np.trunc(x))#using trunc\n",
        "print(np.floor(x))# using floor\n",
        "print(np.ceil(x)) #using ceil\n",
        "print(x%x)#using %"
      ]
    },
    {
      "cell_type": "markdown",
      "metadata": {
        "id": "KlNzm3HpTngk"
      },
      "source": [
        "#### 37. Create a 5x5 matrix with row values ranging from 0 to 4 (★★☆) \n",
        "(**hint**: np.arange)"
      ]
    },
    {
      "cell_type": "code",
      "execution_count": null,
      "metadata": {
        "id": "akuy8rzdTngl",
        "colab": {
          "base_uri": "https://localhost:8080/"
        },
        "outputId": "1f8e4636-1f2c-40d8-ef8c-e51b5c571b52"
      },
      "outputs": [
        {
          "output_type": "execute_result",
          "data": {
            "text/plain": [
              "array([[0, 1, 2, 3, 4],\n",
              "       [0, 1, 2, 3, 4],\n",
              "       [0, 1, 2, 3, 4],\n",
              "       [0, 1, 2, 3, 4],\n",
              "       [0, 1, 2, 3, 4]])"
            ]
          },
          "metadata": {},
          "execution_count": 37
        }
      ],
      "source": [
        "mtx = np.zeros((5, 5),dtype=int)\n",
        "mtx += np.arange(5)\n",
        "mtx"
      ]
    },
    {
      "cell_type": "markdown",
      "metadata": {
        "id": "7WcI0jTqTngl"
      },
      "source": [
        "#### 38. Consider a generator function that generates 10 integers and use it to build an array (★☆☆) \n",
        "(**hint**: np.fromiter)"
      ]
    },
    {
      "cell_type": "code",
      "execution_count": null,
      "metadata": {
        "id": "1heogCNCTngl",
        "colab": {
          "base_uri": "https://localhost:8080/"
        },
        "outputId": "e03a8398-c174-41d9-d8fb-ea7612d1ebe0"
      },
      "outputs": [
        {
          "output_type": "stream",
          "name": "stdout",
          "text": [
            "[ 1  4  9 16 25 36 49 64 81]\n"
          ]
        }
      ],
      "source": [
        "def gen():\n",
        " itr = (x*x for x in range(1,10))\n",
        " print(np.fromiter(itr, int))\n",
        "gen()"
      ]
    },
    {
      "cell_type": "markdown",
      "metadata": {
        "id": "SUpWX8FRTngl"
      },
      "source": [
        "#### 39. Create a vector of size 10 with values ranging from 0 to 1, both excluded (★★☆) \n",
        "(**hint**: np.linspace)"
      ]
    },
    {
      "cell_type": "code",
      "execution_count": null,
      "metadata": {
        "id": "1gaFnAZ1Tngm",
        "colab": {
          "base_uri": "https://localhost:8080/"
        },
        "outputId": "c40191c8-0278-4b24-c087-23c0c5ecc8ba"
      },
      "outputs": [
        {
          "output_type": "execute_result",
          "data": {
            "text/plain": [
              "array([0.1 , 0.19, 0.28, 0.37, 0.46, 0.55, 0.64, 0.73, 0.82, 0.91])"
            ]
          },
          "metadata": {},
          "execution_count": 39
        }
      ],
      "source": [
        "np.linspace(0.1,1,num=10, endpoint=False)"
      ]
    },
    {
      "cell_type": "markdown",
      "metadata": {
        "id": "_4frRfOdTngm"
      },
      "source": [
        "#### 40. Create a random vector of size 10 and sort it (★★☆) \n",
        "(**hint**: sort)"
      ]
    },
    {
      "cell_type": "code",
      "execution_count": null,
      "metadata": {
        "id": "NHcqGL8cTngm",
        "colab": {
          "base_uri": "https://localhost:8080/"
        },
        "outputId": "97947516-b8b1-4679-8e6a-63cc53899a53"
      },
      "outputs": [
        {
          "output_type": "stream",
          "name": "stdout",
          "text": [
            "[6.10397234 5.97290234 4.68609426 6.7475611  4.29653887 4.39266633\n",
            " 5.84747303 3.47436593 3.82025719 6.35035601]\n"
          ]
        },
        {
          "output_type": "execute_result",
          "data": {
            "text/plain": [
              "array([3.47436593, 3.82025719, 4.29653887, 4.39266633, 4.68609426,\n",
              "       5.84747303, 5.97290234, 6.10397234, 6.35035601, 6.7475611 ])"
            ]
          },
          "metadata": {},
          "execution_count": 40
        }
      ],
      "source": [
        "x = np.random.uniform(1,7,10)\n",
        "print(x)\n",
        "x.sort()\n",
        "x\n"
      ]
    },
    {
      "cell_type": "markdown",
      "metadata": {
        "id": "e_4tyTvFTngn"
      },
      "source": [
        "#### 41. How to sum a small array faster than np.sum? (★★☆) \n",
        "(**hint**: np.add.reduce)"
      ]
    },
    {
      "cell_type": "code",
      "execution_count": null,
      "metadata": {
        "id": "FUjj4wHmTngn",
        "colab": {
          "base_uri": "https://localhost:8080/"
        },
        "outputId": "65b86a0a-0a9a-45af-e331-e676772908b0"
      },
      "outputs": [
        {
          "output_type": "stream",
          "name": "stdout",
          "text": [
            "10.10894775390625\n",
            "8.121967315673828\n"
          ]
        }
      ],
      "source": [
        "import time\n",
        "\n",
        "begin_time = time.time()\n",
        "x = np.arange(1000000)\n",
        "np.sum(x)\n",
        "end_time = time.time()\n",
        "print(str(1000*(end_time - begin_time)))\n",
        "\n",
        "begin_time2 = time.time()\n",
        "x = np.arange(1000000)\n",
        "np.add.reduce(x)\n",
        "end_time2 = time.time()\n",
        "print(str(1000*(end_time2 - begin_time2)))"
      ]
    },
    {
      "cell_type": "markdown",
      "metadata": {
        "id": "pvJOG37bTngn"
      },
      "source": [
        "#### 42. Consider two random array A and B, check if they are equal (★★☆) \n",
        "(**hint**: np.allclose, np.array\\_equal)"
      ]
    },
    {
      "cell_type": "code",
      "execution_count": null,
      "metadata": {
        "id": "uecfzkTgTngn",
        "colab": {
          "base_uri": "https://localhost:8080/"
        },
        "outputId": "130ec473-f67d-4bed-d4e8-9013071b7670"
      },
      "outputs": [
        {
          "output_type": "stream",
          "name": "stdout",
          "text": [
            "True\n",
            "True\n"
          ]
        }
      ],
      "source": [
        "A = np.arange(10)\n",
        "B = np.arange(10)\n",
        "print(np.allclose(A,B))\n",
        "print(np.array_equal(A, B))"
      ]
    },
    {
      "cell_type": "markdown",
      "metadata": {
        "id": "BulJjJQYTngo"
      },
      "source": [
        "#### 43. Make an array immutable (read-only) (★★☆) \n",
        "(**hint**: flags.writeable)"
      ]
    },
    {
      "cell_type": "code",
      "execution_count": null,
      "metadata": {
        "id": "cx_HenVuTngo",
        "colab": {
          "base_uri": "https://localhost:8080/",
          "height": 201
        },
        "outputId": "bc846a29-886a-4e7d-f230-0f9e58f869a5"
      },
      "outputs": [
        {
          "output_type": "error",
          "ename": "ValueError",
          "evalue": "ignored",
          "traceback": [
            "\u001b[0;31m---------------------------------------------------------------------------\u001b[0m",
            "\u001b[0;31mValueError\u001b[0m                                Traceback (most recent call last)",
            "\u001b[0;32m<ipython-input-44-b6fe29e1eaac>\u001b[0m in \u001b[0;36m<module>\u001b[0;34m()\u001b[0m\n\u001b[1;32m      2\u001b[0m \u001b[0mar\u001b[0m\u001b[0;34m.\u001b[0m\u001b[0mflags\u001b[0m\u001b[0;34m.\u001b[0m\u001b[0mwriteable\u001b[0m \u001b[0;34m=\u001b[0m \u001b[0;32mFalse\u001b[0m\u001b[0;34m\u001b[0m\u001b[0;34m\u001b[0m\u001b[0m\n\u001b[1;32m      3\u001b[0m \u001b[0;31m#Testing the immutability\u001b[0m\u001b[0;34m\u001b[0m\u001b[0;34m\u001b[0m\u001b[0;34m\u001b[0m\u001b[0m\n\u001b[0;32m----> 4\u001b[0;31m \u001b[0mar\u001b[0m\u001b[0;34m[\u001b[0m\u001b[0;36m0\u001b[0m\u001b[0;34m]\u001b[0m \u001b[0;34m=\u001b[0m \u001b[0;36m1\u001b[0m \u001b[0;31m# so we cannot edit the array\u001b[0m\u001b[0;34m\u001b[0m\u001b[0;34m\u001b[0m\u001b[0m\n\u001b[0m",
            "\u001b[0;31mValueError\u001b[0m: assignment destination is read-only"
          ]
        }
      ],
      "source": [
        "ar = np.zeros(10)\n",
        "ar.flags.writeable = False\n",
        "#Testing the immutability\n",
        "ar[0] = 1 # so we cannot edit the array"
      ]
    },
    {
      "cell_type": "markdown",
      "metadata": {
        "id": "KjgWLTsxTngo"
      },
      "source": [
        "#### 44. Consider a random 10x2 matrix representing cartesian coordinates, convert them to polar coordinates (★★☆) \n",
        "(**hint**: np.sqrt, np.arctan2)"
      ]
    },
    {
      "cell_type": "code",
      "execution_count": null,
      "metadata": {
        "id": "asAPBJbNTngp",
        "colab": {
          "base_uri": "https://localhost:8080/"
        },
        "outputId": "b74fd4af-cc80-4d2f-a116-253a32d3e08b"
      },
      "outputs": [
        {
          "output_type": "stream",
          "name": "stdout",
          "text": [
            "[0.52837078 1.0850681  1.27207962 0.33222758 0.98286308 0.26810854\n",
            " 0.88090924 0.7864266  0.920239   0.53095276]\n",
            "[0.70524163 0.59805743 0.74611711 0.4451253  1.45811726 0.10668586\n",
            " 0.48885145 0.0883238  1.00613475 0.49951184]\n"
          ]
        }
      ],
      "source": [
        "Z = np.random.random((10,2))\n",
        "X,Y = Z[:,0], Z[:,1]\n",
        "R = np.sqrt(X**2+Y**2)\n",
        "T = np.arctan2(Y,X)\n",
        "print(R)\n",
        "print(T)"
      ]
    },
    {
      "cell_type": "markdown",
      "metadata": {
        "id": "qXRq3a7KTngp"
      },
      "source": [
        "#### 45. Create random vector of size 10 and replace the maximum value by 0 (★★☆) \n",
        "(**hint**: argmax)"
      ]
    },
    {
      "cell_type": "code",
      "execution_count": null,
      "metadata": {
        "id": "gZNyapZKTngp",
        "colab": {
          "base_uri": "https://localhost:8080/"
        },
        "outputId": "89fea95d-90b8-42b7-c5cd-e0a31e25632d"
      },
      "outputs": [
        {
          "output_type": "stream",
          "name": "stdout",
          "text": [
            "[0.24204699 0.2751713  0.50281888 0.13901305 0.14441807 0.93529235\n",
            " 0.1416051  0.54640633 0.28879847 0.43114077]\n",
            "[0.24204699 0.2751713  0.50281888 0.13901305 0.14441807 0.\n",
            " 0.1416051  0.54640633 0.28879847 0.43114077]\n"
          ]
        }
      ],
      "source": [
        "rn = np.random.random(10)\n",
        "print(rn)\n",
        "rn[rn.argmax()] = 0\n",
        "print(rn)"
      ]
    },
    {
      "cell_type": "markdown",
      "metadata": {
        "id": "sbcQroNYTngp"
      },
      "source": [
        "#### 46. Create a structured array with `x` and `y` coordinates covering the \\[0,1\\]x\\[0,1\\] area (★★☆) \n",
        "(**hint**: np.meshgrid)"
      ]
    },
    {
      "cell_type": "code",
      "execution_count": null,
      "metadata": {
        "id": "A4kJ6bzoTngq",
        "colab": {
          "base_uri": "https://localhost:8080/"
        },
        "outputId": "88b119ca-bc13-4083-cb9e-b5086ff5d39e"
      },
      "outputs": [
        {
          "output_type": "stream",
          "name": "stdout",
          "text": [
            "[[(0.  , 0.  ) (0.25, 0.  ) (0.5 , 0.  ) (0.75, 0.  ) (1.  , 0.  )]\n",
            " [(0.  , 0.25) (0.25, 0.25) (0.5 , 0.25) (0.75, 0.25) (1.  , 0.25)]\n",
            " [(0.  , 0.5 ) (0.25, 0.5 ) (0.5 , 0.5 ) (0.75, 0.5 ) (1.  , 0.5 )]\n",
            " [(0.  , 0.75) (0.25, 0.75) (0.5 , 0.75) (0.75, 0.75) (1.  , 0.75)]\n",
            " [(0.  , 1.  ) (0.25, 1.  ) (0.5 , 1.  ) (0.75, 1.  ) (1.  , 1.  )]]\n"
          ]
        }
      ],
      "source": [
        "sa = np.zeros((5,5), [('x',float),('y',float)])\n",
        "sa['x'], sa['y'] = np.meshgrid(np.linspace(0,1,5), np.linspace(0,1,5))\n",
        "print(sa)"
      ]
    },
    {
      "cell_type": "markdown",
      "metadata": {
        "id": "eGW2dgYnTngq"
      },
      "source": [
        "####  47. Given two arrays, X and Y, construct the Cauchy matrix C (Cij =1/(xi - yj)) \n",
        "(**hint**: np.subtract.outer)"
      ]
    },
    {
      "cell_type": "code",
      "execution_count": null,
      "metadata": {
        "id": "2fgSzvaiTngq",
        "colab": {
          "base_uri": "https://localhost:8080/"
        },
        "outputId": "f7679953-9bca-4c79-b9e7-be4bd8eded18"
      },
      "outputs": [
        {
          "output_type": "stream",
          "name": "stdout",
          "text": [
            "The constructed matrix= \n",
            " [[ 7.10577244e+05  1.71475908e+07 -2.78971666e+05 -1.61918819e+07\n",
            "  -4.81080987e+04]\n",
            " [ 6.92654199e+04 -5.56581359e+04 -5.03278003e+04  7.14800173e+04\n",
            "  -8.05024660e+04]\n",
            " [-8.71576841e+04 -8.11672334e+03 -1.79405611e+05 -1.49192285e+06\n",
            "  -6.46769139e+04]\n",
            " [ 5.92147354e+04  2.03866083e+06 -4.88080785e+04 -5.63589791e+04\n",
            "  -2.48673336e+05]\n",
            " [-2.61574120e+05 -7.56099549e+04 -5.68225553e+04  3.42876426e+06\n",
            "   1.89585242e+06]]\n"
          ]
        }
      ],
      "source": [
        "X = np.random.random((5, 5))\n",
        "Y = np.random.random((5, 5))\n",
        "c = 1 / (X - Y)\n",
        "c = 1 / np.subtract.outer(X, Y)\n",
        "print(\"The constructed matrix= \\n\",np.linalg.det(c))"
      ]
    },
    {
      "cell_type": "markdown",
      "metadata": {
        "id": "fXwf3XDqTngq"
      },
      "source": [
        "#### 48. Print the minimum and maximum representable value for each numpy scalar type (★★☆) \n",
        "(**hint**: np.iinfo, np.finfo, eps)"
      ]
    },
    {
      "cell_type": "code",
      "execution_count": null,
      "metadata": {
        "id": "_ohAiC7PTngr",
        "colab": {
          "base_uri": "https://localhost:8080/"
        },
        "outputId": "d5b742db-a7b2-44e6-e2bc-31236ec5bfe3"
      },
      "outputs": [
        {
          "output_type": "stream",
          "name": "stdout",
          "text": [
            "-3.4028235e+38\n",
            "3.4028235e+38\n",
            "1.1920929e-07\n",
            "-1.7976931348623157e+308\n",
            "1.7976931348623157e+308\n",
            "2.220446049250313e-16\n",
            "-128\n",
            "127\n",
            "-2147483648\n",
            "2147483647\n",
            "-9223372036854775808\n",
            "9223372036854775807\n"
          ]
        }
      ],
      "source": [
        "for dtype in [np.float32, np.float64]:# for float dtype\n",
        "   print(np.finfo(dtype).min)\n",
        "   print(np.finfo(dtype).max)\n",
        "   print(np.finfo(dtype).eps)\n",
        "for dtype in [np.int8, np.int32, np.int64]:# for integer dtype\n",
        "   print(np.iinfo(dtype).min)\n",
        "   print(np.iinfo(dtype).max)\n"
      ]
    },
    {
      "cell_type": "markdown",
      "metadata": {
        "id": "BXmLdP-RTngr"
      },
      "source": [
        "#### 49. How to print all the values of an array? (★★☆) \n",
        "(**hint**: np.set\\_printoptions)"
      ]
    },
    {
      "cell_type": "code",
      "execution_count": null,
      "metadata": {
        "id": "8DxKuFz0Tngr",
        "colab": {
          "base_uri": "https://localhost:8080/"
        },
        "outputId": "f25a2cd0-49fb-4d1b-98ee-829454c9f7fb"
      },
      "outputs": [
        {
          "output_type": "stream",
          "name": "stdout",
          "text": [
            "[[0. 0. 0. 0. 0. 0. 0. 0. 0. 0. 0. 0. 0. 0. 0. 0. 0. 0. 0. 0. 0. 0. 0. 0.\n",
            "  0.]\n",
            " [0. 0. 0. 0. 0. 0. 0. 0. 0. 0. 0. 0. 0. 0. 0. 0. 0. 0. 0. 0. 0. 0. 0. 0.\n",
            "  0.]\n",
            " [0. 0. 0. 0. 0. 0. 0. 0. 0. 0. 0. 0. 0. 0. 0. 0. 0. 0. 0. 0. 0. 0. 0. 0.\n",
            "  0.]\n",
            " [0. 0. 0. 0. 0. 0. 0. 0. 0. 0. 0. 0. 0. 0. 0. 0. 0. 0. 0. 0. 0. 0. 0. 0.\n",
            "  0.]\n",
            " [0. 0. 0. 0. 0. 0. 0. 0. 0. 0. 0. 0. 0. 0. 0. 0. 0. 0. 0. 0. 0. 0. 0. 0.\n",
            "  0.]\n",
            " [0. 0. 0. 0. 0. 0. 0. 0. 0. 0. 0. 0. 0. 0. 0. 0. 0. 0. 0. 0. 0. 0. 0. 0.\n",
            "  0.]\n",
            " [0. 0. 0. 0. 0. 0. 0. 0. 0. 0. 0. 0. 0. 0. 0. 0. 0. 0. 0. 0. 0. 0. 0. 0.\n",
            "  0.]\n",
            " [0. 0. 0. 0. 0. 0. 0. 0. 0. 0. 0. 0. 0. 0. 0. 0. 0. 0. 0. 0. 0. 0. 0. 0.\n",
            "  0.]\n",
            " [0. 0. 0. 0. 0. 0. 0. 0. 0. 0. 0. 0. 0. 0. 0. 0. 0. 0. 0. 0. 0. 0. 0. 0.\n",
            "  0.]\n",
            " [0. 0. 0. 0. 0. 0. 0. 0. 0. 0. 0. 0. 0. 0. 0. 0. 0. 0. 0. 0. 0. 0. 0. 0.\n",
            "  0.]\n",
            " [0. 0. 0. 0. 0. 0. 0. 0. 0. 0. 0. 0. 0. 0. 0. 0. 0. 0. 0. 0. 0. 0. 0. 0.\n",
            "  0.]\n",
            " [0. 0. 0. 0. 0. 0. 0. 0. 0. 0. 0. 0. 0. 0. 0. 0. 0. 0. 0. 0. 0. 0. 0. 0.\n",
            "  0.]\n",
            " [0. 0. 0. 0. 0. 0. 0. 0. 0. 0. 0. 0. 0. 0. 0. 0. 0. 0. 0. 0. 0. 0. 0. 0.\n",
            "  0.]\n",
            " [0. 0. 0. 0. 0. 0. 0. 0. 0. 0. 0. 0. 0. 0. 0. 0. 0. 0. 0. 0. 0. 0. 0. 0.\n",
            "  0.]\n",
            " [0. 0. 0. 0. 0. 0. 0. 0. 0. 0. 0. 0. 0. 0. 0. 0. 0. 0. 0. 0. 0. 0. 0. 0.\n",
            "  0.]\n",
            " [0. 0. 0. 0. 0. 0. 0. 0. 0. 0. 0. 0. 0. 0. 0. 0. 0. 0. 0. 0. 0. 0. 0. 0.\n",
            "  0.]\n",
            " [0. 0. 0. 0. 0. 0. 0. 0. 0. 0. 0. 0. 0. 0. 0. 0. 0. 0. 0. 0. 0. 0. 0. 0.\n",
            "  0.]\n",
            " [0. 0. 0. 0. 0. 0. 0. 0. 0. 0. 0. 0. 0. 0. 0. 0. 0. 0. 0. 0. 0. 0. 0. 0.\n",
            "  0.]\n",
            " [0. 0. 0. 0. 0. 0. 0. 0. 0. 0. 0. 0. 0. 0. 0. 0. 0. 0. 0. 0. 0. 0. 0. 0.\n",
            "  0.]\n",
            " [0. 0. 0. 0. 0. 0. 0. 0. 0. 0. 0. 0. 0. 0. 0. 0. 0. 0. 0. 0. 0. 0. 0. 0.\n",
            "  0.]\n",
            " [0. 0. 0. 0. 0. 0. 0. 0. 0. 0. 0. 0. 0. 0. 0. 0. 0. 0. 0. 0. 0. 0. 0. 0.\n",
            "  0.]\n",
            " [0. 0. 0. 0. 0. 0. 0. 0. 0. 0. 0. 0. 0. 0. 0. 0. 0. 0. 0. 0. 0. 0. 0. 0.\n",
            "  0.]\n",
            " [0. 0. 0. 0. 0. 0. 0. 0. 0. 0. 0. 0. 0. 0. 0. 0. 0. 0. 0. 0. 0. 0. 0. 0.\n",
            "  0.]\n",
            " [0. 0. 0. 0. 0. 0. 0. 0. 0. 0. 0. 0. 0. 0. 0. 0. 0. 0. 0. 0. 0. 0. 0. 0.\n",
            "  0.]\n",
            " [0. 0. 0. 0. 0. 0. 0. 0. 0. 0. 0. 0. 0. 0. 0. 0. 0. 0. 0. 0. 0. 0. 0. 0.\n",
            "  0.]]\n"
          ]
        }
      ],
      "source": [
        "import sys\n",
        "np.set_printoptions(threshold=sys.maxsize)\n",
        "Alval = np.zeros((25,25))\n",
        "print(Alval)"
      ]
    },
    {
      "cell_type": "markdown",
      "metadata": {
        "id": "19AvvcUITngr"
      },
      "source": [
        "#### 50. How to find the closest value (to a given scalar) in a vector? (★★☆) \n",
        "(**hint**: argmin)"
      ]
    },
    {
      "cell_type": "code",
      "execution_count": null,
      "metadata": {
        "id": "6FHudF3UTngs",
        "colab": {
          "base_uri": "https://localhost:8080/"
        },
        "outputId": "f3a6efe8-67f1-49b5-8c83-bba9f774a726"
      },
      "outputs": [
        {
          "output_type": "stream",
          "name": "stdout",
          "text": [
            "s= [ 0  1  2  3  4  5  6  7  8  9 10 11 12 13 14 15 16 17 18 19 20 21 22 23\n",
            " 24 25 26 27 28 29 30 31 32 33 34 35 36 37 38 39 40 41 42 43 44 45 46 47\n",
            " 48 49] \n",
            " v= 37.3897587869496 \n",
            " the closest value= 9\n"
          ]
        }
      ],
      "source": [
        "s = np.arange(50)\n",
        "v = np.random.uniform(0,50)\n",
        "index = (np.abs(Z-v)).argmin()\n",
        "print('s=',s,'\\n v=',v,'\\n the closest value=',s[index])"
      ]
    },
    {
      "cell_type": "markdown",
      "metadata": {
        "id": "DTUTDXZNTngs"
      },
      "source": [
        "#### 51. Create a structured array representing a position (x,y) and a color (r,g,b) (★★☆) \n",
        "(**hint**: dtype)"
      ]
    },
    {
      "cell_type": "code",
      "execution_count": null,
      "metadata": {
        "id": "NqoWXP3FTngt",
        "colab": {
          "base_uri": "https://localhost:8080/"
        },
        "outputId": "d4c30f5d-14e6-4dbd-c5f4-c10fa3e1c37a"
      },
      "outputs": [
        {
          "output_type": "stream",
          "name": "stderr",
          "text": [
            "/usr/local/lib/python3.7/dist-packages/ipykernel_launcher.py:5: FutureWarning: Passing (type, 1) or '1type' as a synonym of type is deprecated; in a future version of numpy, it will be understood as (type, (1,)) / '(1,)type'.\n",
            "  \"\"\"\n"
          ]
        },
        {
          "output_type": "execute_result",
          "data": {
            "text/plain": [
              "array([((0., 0.), (0., 0., 0.)), ((0., 0.), (0., 0., 0.)),\n",
              "       ((0., 0.), (0., 0., 0.)), ((0., 0.), (0., 0., 0.)),\n",
              "       ((0., 0.), (0., 0., 0.)), ((0., 0.), (0., 0., 0.)),\n",
              "       ((0., 0.), (0., 0., 0.)), ((0., 0.), (0., 0., 0.)),\n",
              "       ((0., 0.), (0., 0., 0.)), ((0., 0.), (0., 0., 0.))],\n",
              "      dtype=[('position', [('x', '<f8'), ('y', '<f8')]), ('color', [('r', '<f8'), ('g', '<f8'), ('b', '<f8')])])"
            ]
          },
          "metadata": {},
          "execution_count": 52
        }
      ],
      "source": [
        "sa = np.zeros(10, [ ('position', [ ('x', float, 1),\n",
        "('y', float, 1)]),\n",
        "('color', [ ('r', float, 1),\n",
        "('g', float, 1),\n",
        "('b', float, 1)])])\n",
        "sa"
      ]
    },
    {
      "cell_type": "markdown",
      "metadata": {
        "id": "c9zHVtgJTngt"
      },
      "source": [
        "#### 52. Consider a random vector with shape (100,2) representing coordinates, find point by point distances (★★☆) \n",
        "(**hint**: np.atleast\\_2d, T, np.sqrt)"
      ]
    },
    {
      "cell_type": "code",
      "execution_count": null,
      "metadata": {
        "id": "9ahys8iJTngt",
        "colab": {
          "base_uri": "https://localhost:8080/"
        },
        "outputId": "d837b3b8-66f3-455f-bcff-6072d079f9f6"
      },
      "outputs": [
        {
          "output_type": "stream",
          "name": "stdout",
          "text": [
            "[[0.45614674 0.6572645 ]\n",
            " [0.16274498 0.41751179]\n",
            " [0.55699667 0.79310497]\n",
            " [0.61388724 0.85376802]\n",
            " [0.97782098 0.88809598]\n",
            " [0.53910586 0.20715139]\n",
            " [0.77680131 0.04680413]\n",
            " [0.06803488 0.56880854]\n",
            " [0.83504997 0.07483565]\n",
            " [0.57184114 0.38557592]] \n",
            " [[0.         0.37890098 0.16918435 0.25198353 0.57046226 0.45769425\n",
            "  0.68955146 0.39806441 0.69483165 0.29529625]\n",
            " [0.37890098 0.         0.54452239 0.62757377 0.94116862 0.43116007\n",
            "  0.71727913 0.17849569 0.75459985 0.41034079]\n",
            " [0.16918435 0.54452239 0.         0.08316575 0.43141209 0.58622665\n",
            "  0.77799681 0.53795216 0.77021066 0.40779932]\n",
            " [0.25198353 0.62757377 0.08316575 0.         0.36554914 0.65092651\n",
            "  0.82324463 0.61575702 0.80972131 0.47007629]\n",
            " [0.57046226 0.94116862 0.43141209 0.36554914 0.         0.81003487\n",
            "  0.8649745  0.9641863  0.82569724 0.64602325]\n",
            " [0.45769425 0.43116007 0.58622665 0.65092651 0.81003487 0.\n",
            "  0.28672351 0.59388868 0.32417645 0.18140262]\n",
            " [0.68955146 0.71727913 0.77799681 0.82324463 0.8649745  0.28672351\n",
            "  0.         0.88024909 0.06464265 0.39594823]\n",
            " [0.39806441 0.17849569 0.53795216 0.61575702 0.9641863  0.59388868\n",
            "  0.88024909 0.         0.91231648 0.53609228]\n",
            " [0.69483165 0.75459985 0.77021066 0.80972131 0.82569724 0.32417645\n",
            "  0.06464265 0.91231648 0.         0.40723262]\n",
            " [0.29529625 0.41034079 0.40779932 0.47007629 0.64602325 0.18140262\n",
            "  0.39594823 0.53609228 0.40723262 0.        ]]\n"
          ]
        }
      ],
      "source": [
        "rv = np.random.random((10,2)) # to see result for 100,2 change 10 to 100\n",
        "X,Y = np.atleast_2d(rv[:,0]), np.atleast_2d(rv[:,1])\n",
        "D = np.sqrt( (X-X.T)**2 + (Y-Y.T)**2)\n",
        "print(rv,'\\n',D)"
      ]
    },
    {
      "cell_type": "markdown",
      "metadata": {
        "id": "FhirktZKTngu"
      },
      "source": [
        "#### 53. How to convert a float (32 bits) array into an integer (32 bits) in place? \n",
        "(**hint**: astype(copy=False))"
      ]
    },
    {
      "cell_type": "code",
      "execution_count": null,
      "metadata": {
        "id": "YHlsleOATngu",
        "colab": {
          "base_uri": "https://localhost:8080/"
        },
        "outputId": "feca814d-8f14-4127-9f20-9ad6b2329bba"
      },
      "outputs": [
        {
          "output_type": "stream",
          "name": "stdout",
          "text": [
            "[0 1 2 3 4 5 6 7 8 9] [0. 1. 2. 3. 4. 5. 6. 7. 8. 9.]\n",
            "[0. 1. 2. 3. 4. 5. 6. 7. 8. 9.] [0 1 2 3 4 5 6 7 8 9]\n"
          ]
        }
      ],
      "source": [
        "cint = np.arange(10, dtype=np.int32)\n",
        "cfloat = cint.astype(np.float32, copy=False)\n",
        "print(cint,cfloat)\n",
        "# vice-versa\n",
        "cfloat32 = np.arange(10, dtype=np.float32)\n",
        "cint32 = cfloat.astype(np.int32, copy=False)\n",
        "print(cfloat32,cint32)"
      ]
    },
    {
      "cell_type": "markdown",
      "metadata": {
        "id": "S60eIuehTngu"
      },
      "source": [
        "#### 54. How to read the following file? (★★☆) \n",
        "(**hint**: np.genfromtxt)"
      ]
    },
    {
      "cell_type": "markdown",
      "metadata": {
        "id": "XBlzSrY7Tngv"
      },
      "source": [
        "```\n",
        "1, 2, 3, 4, 5\n",
        "6,  ,  , 7, 8\n",
        " ,  , 9,10,11\n",
        "```"
      ]
    },
    {
      "cell_type": "code",
      "execution_count": null,
      "metadata": {
        "id": "xrxa0bWuTngv",
        "colab": {
          "base_uri": "https://localhost:8080/"
        },
        "outputId": "10f4039e-79c2-48d2-f7d5-bbc4e62ede9a"
      },
      "outputs": [
        {
          "output_type": "stream",
          "name": "stdout",
          "text": [
            "[[ 1  2  3  4  5]\n",
            " [ 6 -1 -1  7  8]\n",
            " [-1 -1  9 10 11]]\n"
          ]
        }
      ],
      "source": [
        "from io import StringIO\n",
        "miss = StringIO(\"\"\"1, 2, 3, 4, 5\\n6, , , 7, 8\\n, , 9,10,11\\n\"\"\")\n",
        "out = np.genfromtxt(miss, delimiter=\",\", dtype=np.int)\n",
        "print(out)"
      ]
    },
    {
      "cell_type": "markdown",
      "metadata": {
        "id": "2mk3cAD1Tngv"
      },
      "source": [
        "#### 55. What is the equivalent of enumerate for numpy arrays? (★★☆) \n",
        "(**hint**: np.ndenumerate, np.ndindex)"
      ]
    },
    {
      "cell_type": "code",
      "execution_count": null,
      "metadata": {
        "id": "oJI1pKLQTngv",
        "colab": {
          "base_uri": "https://localhost:8080/"
        },
        "outputId": "30aa77e0-c6f7-4562-9b28-4bfd349a4a39"
      },
      "outputs": [
        {
          "output_type": "stream",
          "name": "stdout",
          "text": [
            "[[0 1 2]\n",
            " [3 4 5]\n",
            " [6 7 8]]\n",
            "(0, 0) 0\n",
            "(0, 1) 1\n",
            "(0, 2) 2\n",
            "(1, 0) 3\n",
            "(1, 1) 4\n",
            "(1, 2) 5\n",
            "(2, 0) 6\n",
            "(2, 1) 7\n",
            "(2, 2) 8\n",
            "(0, 0) 0\n",
            "(0, 1) 1\n",
            "(0, 2) 2\n",
            "(1, 0) 3\n",
            "(1, 1) 4\n",
            "(1, 2) 5\n",
            "(2, 0) 6\n",
            "(2, 1) 7\n",
            "(2, 2) 8\n"
          ]
        }
      ],
      "source": [
        "nar = np.arange(9).reshape(3,3)\n",
        "print(nar)\n",
        "for index, value in np.ndenumerate(nar):\n",
        "    print(index, value)\n",
        "for index in np.ndindex(nar.shape):\n",
        "    print(index, nar[index])"
      ]
    },
    {
      "cell_type": "markdown",
      "metadata": {
        "id": "WVxUb4slTngv"
      },
      "source": [
        "#### 56. Generate a generic 2D Gaussian-like array (★★☆) \n",
        "(**hint**: np.meshgrid, np.exp)"
      ]
    },
    {
      "cell_type": "code",
      "execution_count": null,
      "metadata": {
        "id": "AOO8rQbmTngw",
        "colab": {
          "base_uri": "https://localhost:8080/"
        },
        "outputId": "eee96949-0a66-44b0-89c0-548f0d5070c1"
      },
      "outputs": [
        {
          "output_type": "stream",
          "name": "stdout",
          "text": [
            "[[0.36787944 0.44822088 0.51979489 0.57375342 0.60279818 0.60279818\n",
            "  0.57375342 0.51979489 0.44822088 0.36787944]\n",
            " [0.44822088 0.54610814 0.63331324 0.69905581 0.73444367 0.73444367\n",
            "  0.69905581 0.63331324 0.54610814 0.44822088]\n",
            " [0.51979489 0.63331324 0.73444367 0.81068432 0.85172308 0.85172308\n",
            "  0.81068432 0.73444367 0.63331324 0.51979489]\n",
            " [0.57375342 0.69905581 0.81068432 0.89483932 0.9401382  0.9401382\n",
            "  0.89483932 0.81068432 0.69905581 0.57375342]\n",
            " [0.60279818 0.73444367 0.85172308 0.9401382  0.98773022 0.98773022\n",
            "  0.9401382  0.85172308 0.73444367 0.60279818]\n",
            " [0.60279818 0.73444367 0.85172308 0.9401382  0.98773022 0.98773022\n",
            "  0.9401382  0.85172308 0.73444367 0.60279818]\n",
            " [0.57375342 0.69905581 0.81068432 0.89483932 0.9401382  0.9401382\n",
            "  0.89483932 0.81068432 0.69905581 0.57375342]\n",
            " [0.51979489 0.63331324 0.73444367 0.81068432 0.85172308 0.85172308\n",
            "  0.81068432 0.73444367 0.63331324 0.51979489]\n",
            " [0.44822088 0.54610814 0.63331324 0.69905581 0.73444367 0.73444367\n",
            "  0.69905581 0.63331324 0.54610814 0.44822088]\n",
            " [0.36787944 0.44822088 0.51979489 0.57375342 0.60279818 0.60279818\n",
            "  0.57375342 0.51979489 0.44822088 0.36787944]]\n"
          ]
        }
      ],
      "source": [
        "X, Y = np.meshgrid(np.linspace(-1,1,10), np.linspace(-1,1,10))\n",
        "D = np.sqrt(X*X+Y*Y)\n",
        "sigma, mu = 1.0, 0.0\n",
        "G = np.exp(-( (D-mu)**2 / ( 2.0 * sigma**2 ) ) )\n",
        "print(G)"
      ]
    },
    {
      "cell_type": "markdown",
      "metadata": {
        "id": "nOiqazdGTngw"
      },
      "source": [
        "#### 57. How to randomly place p elements in a 2D array? (★★☆) \n",
        "(**hint**: np.put, np.random.choice)"
      ]
    },
    {
      "cell_type": "code",
      "execution_count": null,
      "metadata": {
        "id": "9iviNecXTngw",
        "colab": {
          "base_uri": "https://localhost:8080/"
        },
        "outputId": "0e14356f-6b4c-4f23-81ca-834fe0583ac8"
      },
      "outputs": [
        {
          "output_type": "stream",
          "name": "stdout",
          "text": [
            "[[0. 0. 0. 0. 0.]\n",
            " [0. 0. 0. 0. 0.]\n",
            " [0. 1. 0. 0. 1.]\n",
            " [0. 0. 0. 0. 0.]\n",
            " [1. 0. 0. 0. 0.]]\n"
          ]
        }
      ],
      "source": [
        "n = 5\n",
        "p = 3\n",
        "rn = np.zeros((n,n))\n",
        "np.put(rn, np.random.choice(range(n*n), p, replace=False),1)\n",
        "print(rn)"
      ]
    },
    {
      "cell_type": "markdown",
      "metadata": {
        "id": "1j4ygOdBTngw"
      },
      "source": [
        "#### 58. Subtract the mean of each row of a matrix (★★☆) \n",
        "(**hint**: mean(axis=,keepdims=))"
      ]
    },
    {
      "cell_type": "code",
      "execution_count": null,
      "metadata": {
        "id": "WeiexC1RTngx",
        "colab": {
          "base_uri": "https://localhost:8080/"
        },
        "outputId": "c08eb211-6605-461e-84c0-09789850fde6"
      },
      "outputs": [
        {
          "output_type": "stream",
          "name": "stdout",
          "text": [
            "[[0.13057374 0.87660585 0.03390944 0.8034976  0.72230451]\n",
            " [0.06912744 0.74880247 0.23875602 0.50175965 0.04157593]\n",
            " [0.19246104 0.11716341 0.16225943 0.43447624 0.63538264]\n",
            " [0.90730459 0.40089124 0.06945711 0.60314882 0.417326  ]\n",
            " [0.59986346 0.00489081 0.84316948 0.16343909 0.15765802]] \n",
            " [[-0.38280449  0.36322763 -0.47946879  0.29011938  0.20892628]\n",
            " [-0.25087687  0.42879816 -0.08124828  0.18175535 -0.27842837]\n",
            " [-0.11588751 -0.19118514 -0.14608913  0.12612769  0.32703408]\n",
            " [ 0.42767904 -0.07873431 -0.41016845  0.12352327 -0.06229955]\n",
            " [ 0.24605929 -0.34891336  0.48936531 -0.19036508 -0.19614615]]\n"
          ]
        }
      ],
      "source": [
        "X = np.random.rand(5, 5)\n",
        "Y = X - X.mean(axis=1, keepdims=True)\n",
        "print(X,'\\n',Y)"
      ]
    },
    {
      "cell_type": "markdown",
      "metadata": {
        "id": "x4w6fuJbTngx"
      },
      "source": [
        "#### 59. How to sort an array by the nth column? (★★☆) \n",
        "(**hint**: argsort)"
      ]
    },
    {
      "cell_type": "code",
      "execution_count": null,
      "metadata": {
        "id": "Fw76_tj2Tngx",
        "colab": {
          "base_uri": "https://localhost:8080/"
        },
        "outputId": "f8bd0490-9469-4cd3-eea0-a730bf4a4d9f"
      },
      "outputs": [
        {
          "output_type": "stream",
          "name": "stdout",
          "text": [
            "[[4 6 9]\n",
            " [3 8 9]\n",
            " [9 2 5]]\n",
            "[[9 2 5]\n",
            " [4 6 9]\n",
            " [3 8 9]]\n"
          ]
        }
      ],
      "source": [
        "Z = np.random.randint(0,10,(3,3))\n",
        "print(Z)\n",
        "print(Z[Z[:,1].argsort()])"
      ]
    },
    {
      "cell_type": "markdown",
      "metadata": {
        "id": "7MjRNo8ATngx"
      },
      "source": [
        "#### 60. How to tell if a given 2D array has null columns? (★★☆) \n",
        "(**hint**: any, ~)"
      ]
    },
    {
      "cell_type": "code",
      "execution_count": null,
      "metadata": {
        "id": "Zb5JFNpYTngx",
        "colab": {
          "base_uri": "https://localhost:8080/"
        },
        "outputId": "6a0b0c5c-19a6-446a-d400-d4f39106ae85"
      },
      "outputs": [
        {
          "output_type": "stream",
          "name": "stdout",
          "text": [
            "[[0 0 1 0 0 0 0 2 0 1]\n",
            " [2 0 2 0 0 2 0 0 2 1]\n",
            " [1 2 2 2 0 0 1 1 1 1]]\n",
            "True\n"
          ]
        }
      ],
      "source": [
        "tda = np.random.randint(0,3,(3,10))\n",
        "print(tda)\n",
        "print((~tda.any(axis=0)).any())"
      ]
    },
    {
      "cell_type": "markdown",
      "metadata": {
        "id": "xTfZmwheTngy"
      },
      "source": [
        "#### 61. Find the nearest value from a given value in an array (★★☆) \n",
        "(**hint**: np.abs, argmin, flat)"
      ]
    },
    {
      "cell_type": "code",
      "source": [
        "arr = np.random.uniform(0,1,10)\n",
        "val = 0.5\n",
        "m = arr.flat[np.abs(arr - val).argmin()]\n",
        "print(m)"
      ],
      "metadata": {
        "colab": {
          "base_uri": "https://localhost:8080/"
        },
        "id": "ERNP5Uq53WUP",
        "outputId": "defddc6f-8163-4694-c0da-95dba899035a"
      },
      "execution_count": null,
      "outputs": [
        {
          "output_type": "stream",
          "name": "stdout",
          "text": [
            "0.4138362656064901\n"
          ]
        }
      ]
    },
    {
      "cell_type": "markdown",
      "metadata": {
        "id": "QHgTj2e5Tngy"
      },
      "source": [
        "#### 62. Considering two arrays with shape (1,3) and (3,1), how to compute their sum using an iterator? (★★☆) \n",
        "(**hint**: np.nditer)"
      ]
    },
    {
      "cell_type": "code",
      "execution_count": null,
      "metadata": {
        "id": "LAiskoilTngy",
        "colab": {
          "base_uri": "https://localhost:8080/"
        },
        "outputId": "3f699aa8-4af2-4b9d-896a-e4fa68d4f83a"
      },
      "outputs": [
        {
          "output_type": "stream",
          "name": "stdout",
          "text": [
            "[[0 1 2]\n",
            " [1 2 3]\n",
            " [2 3 4]]\n"
          ]
        }
      ],
      "source": [
        "A = np.arange(3).reshape(3,1)\n",
        "B = np.arange(3).reshape(1,3)\n",
        "it = np.nditer([A,B,None])\n",
        "for x,y,z in it: z[...] = x + y\n",
        "print(it.operands[2])"
      ]
    },
    {
      "cell_type": "markdown",
      "metadata": {
        "id": "s6OrwC2vTngy"
      },
      "source": [
        "#### 63. Create an array class that has a name attribute (★★☆) \n",
        "(**hint**: class method)"
      ]
    },
    {
      "cell_type": "code",
      "execution_count": null,
      "metadata": {
        "id": "kFSoYWwBTngz",
        "colab": {
          "base_uri": "https://localhost:8080/"
        },
        "outputId": "72b1f97d-9958-49a5-caa4-3306816df9e3"
      },
      "outputs": [
        {
          "output_type": "stream",
          "name": "stdout",
          "text": [
            "10 elements no name\n"
          ]
        }
      ],
      "source": [
        "class NamedArray(np.ndarray):\n",
        "    def __new__(cls, array, name=\"no name\"):\n",
        "        obj = np.asarray(array).view(cls)\n",
        "        obj.name = name\n",
        "        return obj\n",
        "    def __array_finalize__(self, obj):\n",
        "        if obj is None: return\n",
        "        self.info = getattr(obj, 'name', \"no name\")\n",
        "\n",
        "x = NamedArray(np.arange(10), \"10 elements\")\n",
        "y = NamedArray(np.arange(5))\n",
        "print (x.name,y.name)"
      ]
    },
    {
      "cell_type": "markdown",
      "metadata": {
        "id": "KyNGYsAZTngz"
      },
      "source": [
        "#### 64. Consider a given vector, how to add 1 to each element indexed by a second vector (be careful with repeated indices)? (★★★) \n",
        "(**hint**: np.bincount | np.add.at)"
      ]
    },
    {
      "cell_type": "code",
      "execution_count": null,
      "metadata": {
        "id": "SHoa6CUgTngz",
        "colab": {
          "base_uri": "https://localhost:8080/"
        },
        "outputId": "c6149e43-51e7-41f8-aa93-5fd128b06385"
      },
      "outputs": [
        {
          "output_type": "stream",
          "name": "stdout",
          "text": [
            "[1. 1. 1. 1. 1. 1. 1. 1. 1. 1.] [1 1 5 7 7 2 5 7 7 7 1 3 0 2 4 4 9 6 8 2]\n",
            "[2. 4. 4. 2. 3. 3. 2. 6. 2. 2.]\n"
          ]
        }
      ],
      "source": [
        "X = np.ones(10)\n",
        "I = np.random.randint(0,len(X),20)\n",
        "print(X,I)\n",
        "np.add.at(X, I, 1)\n",
        "print(X)"
      ]
    },
    {
      "cell_type": "code",
      "source": [
        "#or\n",
        "X += np.bincount(I, minlength=len(X))\n",
        "print(X)"
      ],
      "metadata": {
        "colab": {
          "base_uri": "https://localhost:8080/"
        },
        "id": "B_K4nVuj-wYh",
        "outputId": "72bf3e7e-90d9-4554-95fd-ab35b1bff867"
      },
      "execution_count": null,
      "outputs": [
        {
          "output_type": "stream",
          "name": "stdout",
          "text": [
            "[ 3.  7.  7.  3.  5.  5.  3. 11.  3.  3.]\n"
          ]
        }
      ]
    },
    {
      "cell_type": "markdown",
      "metadata": {
        "id": "ett9rWKLTngz"
      },
      "source": [
        "#### 65. How to accumulate elements of a vector (X) to an array (F) based on an index list (I)? (★★★) \n",
        "(**hint**: np.bincount)"
      ]
    },
    {
      "cell_type": "code",
      "execution_count": null,
      "metadata": {
        "id": "eMAUcrnnTng0",
        "colab": {
          "base_uri": "https://localhost:8080/"
        },
        "outputId": "3154b452-f3a0-446f-b8b5-8815c276c978"
      },
      "outputs": [
        {
          "output_type": "stream",
          "name": "stdout",
          "text": [
            "[0. 7. 0. 6. 5. 0. 0. 0. 0. 3.]\n"
          ]
        }
      ],
      "source": [
        "X = [1,2,3,4,5,6]\n",
        "I = [1,3,9,3,4,1]\n",
        "F = np.bincount(I,X)\n",
        "print(F)"
      ]
    },
    {
      "cell_type": "markdown",
      "metadata": {
        "id": "AZZP27WLTng0"
      },
      "source": [
        "#### 66. Considering a (w,h,3) image of (dtype=ubyte), compute the number of unique colors (★★★) \n",
        "(**hint**: np.unique)"
      ]
    },
    {
      "cell_type": "code",
      "execution_count": null,
      "metadata": {
        "id": "GwprcWEyTng0",
        "colab": {
          "base_uri": "https://localhost:8080/"
        },
        "outputId": "fa1c37df-c6ca-4278-acae-ae8f677048df"
      },
      "outputs": [
        {
          "output_type": "stream",
          "name": "stdout",
          "text": [
            "[[257   0   1 256 257   0 257   1   0 256 256 256 257   1 256   1]\n",
            " [  1 256   0 256 257   0 256 256 256 256 256   1   1   0   1 257]\n",
            " [  1   0   0   1 257 256   1 257   0 257 256 257   1 256   0 256]\n",
            " [256 256   0   0   0 256 256   1 257   1   0   0   1   1   1   0]\n",
            " [257   1 256 257 256   0 257   1 257   1 257   1 257   1   1   0]\n",
            " [256   0   0   1 256   1   0   0   0 257 256 256 257   0 257 256]\n",
            " [  1   1   0   0 257 257 256 257 256   0 257   1   0 257 257 256]\n",
            " [257   1 256   1 256   1 257   0   1   1 256   1   0 257 257   1]\n",
            " [  0   0 257   0 256   1   0   1   1 256   1 256   0 256 257 256]\n",
            " [256 257 256 256 256   0   0 257   1 257 257   1 256   1   1 256]\n",
            " [  1   0 257 256 256   0   0 257 257 256   1   1 256   1   1 256]\n",
            " [257   1 257   1 256 257   0 256   0   0   0 257   0 256   0   1]\n",
            " [256   1   0 256 257 257   0 257 257 257   0   0 256   0 256   0]\n",
            " [256   0   1 257   0 257 256 256 257   0   1   0   0 257   1 257]\n",
            " [256 256   0   1 257 257   0 257   1 257   0 257   0 256   0   0]\n",
            " [  1   0   1   1 257 257 256   0 257   1 257 257 256 257 256 257]] \n",
            "Unique= [0 1] number of unique colors= 4\n"
          ]
        }
      ],
      "source": [
        "w,h = 16,16\n",
        "I = np.random.randint(0,2,(h,w,3)).astype(np.ubyte)\n",
        "F = I[...,0]*256*256 + I[...,1]*256 +I[...,2]\n",
        "n = len(np.unique(F))\n",
        "print(F,'\\nUnique=',np.unique(I),'number of unique colors=',n)"
      ]
    },
    {
      "cell_type": "markdown",
      "metadata": {
        "id": "Y4qAcUuITng0"
      },
      "source": [
        "#### 67. Considering a four dimensions array, how to get sum over the last two axis at once? (★★★) \n",
        "(**hint**: sum(axis=(-2,-1)))"
      ]
    },
    {
      "cell_type": "code",
      "execution_count": null,
      "metadata": {
        "id": "sQI4ruHSTng1",
        "colab": {
          "base_uri": "https://localhost:8080/"
        },
        "outputId": "c98b3a53-e2d1-4c76-fca8-81c2cbee60d6"
      },
      "outputs": [
        {
          "output_type": "stream",
          "name": "stdout",
          "text": [
            "[[70 75 51 49]\n",
            " [67 48 65 60]\n",
            " [70 51 53 51]]\n"
          ]
        }
      ],
      "source": [
        "A = np.random.randint(0,10,(3,4,3,4))\n",
        "sum = A.sum(axis=(-2,-1))\n",
        "print(sum)"
      ]
    },
    {
      "cell_type": "markdown",
      "metadata": {
        "id": "4WDKXU0PTng1"
      },
      "source": [
        "#### 68. Considering a one-dimensional vector D, how to compute means of subsets of D using a vector S of same size describing subset  indices? (★★★) \n",
        "(**hint**: np.bincount)"
      ]
    },
    {
      "cell_type": "code",
      "execution_count": null,
      "metadata": {
        "id": "ezjeHiw7Tng1",
        "colab": {
          "base_uri": "https://localhost:8080/"
        },
        "outputId": "380508cc-3d4f-42cb-b6af-8a7f25dc510e"
      },
      "outputs": [
        {
          "output_type": "stream",
          "name": "stdout",
          "text": [
            "[0.40805675 0.51982944 0.53348451 0.42139614 0.51128811 0.50479316\n",
            " 0.56823042 0.51055835 0.48284321 0.53725888]\n"
          ]
        }
      ],
      "source": [
        "D = np.random.uniform(0,1,100)\n",
        "S = np.random.randint(0,10,100)\n",
        "D_sums = np.bincount(S, weights=D)\n",
        "D_counts = np.bincount(S)\n",
        "D_means = D_sums / D_counts\n",
        "print(D_means)"
      ]
    },
    {
      "cell_type": "markdown",
      "metadata": {
        "id": "Oyqg1IQRTng1"
      },
      "source": [
        "#### 69. How to get the diagonal of a dot product? (★★★) \n",
        "(**hint**: np.diag)"
      ]
    },
    {
      "cell_type": "code",
      "execution_count": null,
      "metadata": {
        "id": "9caL7SawTng2",
        "colab": {
          "base_uri": "https://localhost:8080/"
        },
        "outputId": "4ad3c898-8f81-431a-e0d4-04c10c7047e1"
      },
      "outputs": [
        {
          "output_type": "stream",
          "name": "stdout",
          "text": [
            "[[0.91565823 0.10365403 0.52775991 0.07868288 0.30591147]\n",
            " [0.54208162 0.58135854 0.87205347 0.90134436 0.41083717]\n",
            " [0.41614542 0.92798639 0.15693854 0.95671363 0.12429936]\n",
            " [0.96021698 0.82904851 0.86193672 0.20499475 0.3084928 ]\n",
            " [0.0165403  0.40922438 0.29988748 0.92902573 0.03199369]] \n",
            "\n",
            " [[0.18190505 0.37760219 0.8168108  0.5602483  0.33184776]\n",
            " [0.3341275  0.72034793 0.70339568 0.39977346 0.96583711]\n",
            " [0.89464504 0.17730083 0.60375694 0.86319436 0.97495011]\n",
            " [0.49436992 0.83501831 0.24867495 0.74803727 0.89629944]\n",
            " [0.11444606 0.65966286 0.41345955 0.07376856 0.39074124]] \n",
            "\n",
            " [0.74726311 1.8017405  1.3767099  1.78951121 1.53829479]\n"
          ]
        }
      ],
      "source": [
        "A = np.random.uniform(0,1,(5,5))\n",
        "B = np.random.uniform(0,1,(5,5))\n",
        "C=np.diag(np.dot(A, B))\n",
        "print(A,'\\n\\n',B,'\\n\\n',C)"
      ]
    },
    {
      "cell_type": "markdown",
      "metadata": {
        "id": "GlDQSfIPTng2"
      },
      "source": [
        "#### 70. Consider the vector \\[1, 2, 3, 4, 5\\], how to build a new vector with 3 consecutive zeros interleaved between each value? (★★★) \n",
        "(**hint**: array\\[::4\\])"
      ]
    },
    {
      "cell_type": "code",
      "execution_count": null,
      "metadata": {
        "id": "cBdr0tqPTng2",
        "colab": {
          "base_uri": "https://localhost:8080/"
        },
        "outputId": "9df0925c-ab15-4e7d-c087-6b703668f68c"
      },
      "outputs": [
        {
          "output_type": "stream",
          "name": "stdout",
          "text": [
            "[1 2 3 4 5] [1. 0. 0. 0. 2. 0. 0. 0. 3. 0. 0. 0. 4. 0. 0. 0. 5.]\n"
          ]
        }
      ],
      "source": [
        "v1 = np.array([1,2,3,4,5])\n",
        "nv = 3\n",
        "v2 = np.zeros(len(v1) + (len(v1)-1)*(nv))\n",
        "v2[::nv+1] = v1\n",
        "print(v1,v2)"
      ]
    },
    {
      "cell_type": "markdown",
      "metadata": {
        "id": "X2AJEmsITng2"
      },
      "source": [
        "#### 71. Consider an array of dimension (5,5,3), how to mulitply it by an array with dimensions (5,5)? (★★★) \n",
        "(**hint**: array\\[:, :, None\\])"
      ]
    },
    {
      "cell_type": "code",
      "execution_count": null,
      "metadata": {
        "collapsed": true,
        "id": "QkI9f7_TTng3",
        "colab": {
          "base_uri": "https://localhost:8080/"
        },
        "outputId": "41da39be-84a6-4b70-8bd0-25b205fb2cc4"
      },
      "outputs": [
        {
          "output_type": "stream",
          "name": "stdout",
          "text": [
            "[[[2. 2. 2.]\n",
            "  [2. 2. 2.]\n",
            "  [2. 2. 2.]\n",
            "  [2. 2. 2.]\n",
            "  [2. 2. 2.]]\n",
            "\n",
            " [[2. 2. 2.]\n",
            "  [2. 2. 2.]\n",
            "  [2. 2. 2.]\n",
            "  [2. 2. 2.]\n",
            "  [2. 2. 2.]]\n",
            "\n",
            " [[2. 2. 2.]\n",
            "  [2. 2. 2.]\n",
            "  [2. 2. 2.]\n",
            "  [2. 2. 2.]\n",
            "  [2. 2. 2.]]\n",
            "\n",
            " [[2. 2. 2.]\n",
            "  [2. 2. 2.]\n",
            "  [2. 2. 2.]\n",
            "  [2. 2. 2.]\n",
            "  [2. 2. 2.]]\n",
            "\n",
            " [[2. 2. 2.]\n",
            "  [2. 2. 2.]\n",
            "  [2. 2. 2.]\n",
            "  [2. 2. 2.]\n",
            "  [2. 2. 2.]]]\n"
          ]
        }
      ],
      "source": [
        "A = np.ones((5,5,3))\n",
        "B = 2*np.ones((5,5))\n",
        "print(A * B[:,:,None])"
      ]
    },
    {
      "cell_type": "markdown",
      "metadata": {
        "id": "a312wxBqTng3"
      },
      "source": [
        "#### 72. How to swap two rows of an array? (★★★) \n",
        "(**hint**: array\\[\\[\\]\\] = array\\[\\[\\]\\])"
      ]
    },
    {
      "cell_type": "code",
      "execution_count": null,
      "metadata": {
        "id": "TAD5lI09Tng3",
        "colab": {
          "base_uri": "https://localhost:8080/"
        },
        "outputId": "42dbe168-b8a1-4375-f6cc-366dd750762e"
      },
      "outputs": [
        {
          "output_type": "stream",
          "name": "stdout",
          "text": [
            "[[ 0  1  2  3  4]\n",
            " [ 5  6  7  8  9]\n",
            " [10 11 12 13 14]\n",
            " [15 16 17 18 19]\n",
            " [20 21 22 23 24]] \n",
            "\n",
            "\n",
            "[[ 5  6  7  8  9]\n",
            " [ 0  1  2  3  4]\n",
            " [10 11 12 13 14]\n",
            " [15 16 17 18 19]\n",
            " [20 21 22 23 24]]\n"
          ]
        }
      ],
      "source": [
        "Arr= np.arange(25).reshape(5,5)\n",
        "print(Arr,\"\\n\\n\")\n",
        "Arr[[0,1]] = Arr[[1,0]]\n",
        "print(Arr)"
      ]
    },
    {
      "cell_type": "markdown",
      "metadata": {
        "id": "bt81-cGOTng3"
      },
      "source": [
        "#### 73. Consider a set of 10 triplets describing 10 triangles (with shared vertices), find the set of unique line segments composing all the  triangles (★★★) \n",
        "(**hint**: repeat, np.roll, np.sort, view, np.unique)"
      ]
    },
    {
      "cell_type": "code",
      "execution_count": null,
      "metadata": {
        "id": "h8BO8mb3Tng4",
        "colab": {
          "base_uri": "https://localhost:8080/"
        },
        "outputId": "58af0b14-03a6-464c-b3b9-9344bc53887f"
      },
      "outputs": [
        {
          "output_type": "stream",
          "name": "stdout",
          "text": [
            "[( 2, 47) ( 2, 55) ( 4, 83) ( 4, 92) ( 7, 94) ( 7, 98) ( 9, 75) ( 9, 94)\n",
            " (21, 25) (21, 40) (21, 73) (25, 73) (33, 81) (33, 91) (39, 62) (39, 85)\n",
            " (40, 40) (42, 71) (42, 98) (44, 69) (44, 88) (47, 55) (62, 85) (69, 88)\n",
            " (71, 98) (75, 94) (81, 91) (83, 92) (94, 98)]\n"
          ]
        }
      ],
      "source": [
        "faces = np.random.randint(0,100,(10,3))\n",
        "F = np.roll(faces.repeat(2,axis=1),-1,axis=1)\n",
        "F = F.reshape(len(F)*3,2)\n",
        "F = np.sort(F,axis=1)\n",
        "G = F.view( dtype=[('p0',F.dtype),('p1',F.dtype)] )\n",
        "G = np.unique(G)\n",
        "print(G)"
      ]
    },
    {
      "cell_type": "markdown",
      "metadata": {
        "id": "ExQ7c2ZjTng4"
      },
      "source": [
        "#### 74. Given an array C that is a bincount, how to produce an array A such that np.bincount(A) == C? (★★★) \n",
        "(**hint**: np.repeat)"
      ]
    },
    {
      "cell_type": "code",
      "execution_count": null,
      "metadata": {
        "id": "u23Po6GLTng4",
        "colab": {
          "base_uri": "https://localhost:8080/"
        },
        "outputId": "0d5c4846-0106-419f-a0ae-e3dd65e13484"
      },
      "outputs": [
        {
          "output_type": "stream",
          "name": "stdout",
          "text": [
            "[1 1 2 3 4 4 6]\n"
          ]
        }
      ],
      "source": [
        "C = np.bincount([1,1,2,3,4,4,6])\n",
        "A = np.repeat(np.arange(len(C)), C)\n",
        "print(A)"
      ]
    },
    {
      "cell_type": "markdown",
      "metadata": {
        "id": "fHkUgDJfTng4"
      },
      "source": [
        "#### 75. How to compute averages using a sliding window over an array? (★★★) \n",
        "(**hint**: np.cumsum)"
      ]
    },
    {
      "cell_type": "code",
      "execution_count": null,
      "metadata": {
        "id": "w1-hr3i1Tng5",
        "colab": {
          "base_uri": "https://localhost:8080/"
        },
        "outputId": "6ab74a22-bcbc-4b07-861a-8542576621b4"
      },
      "outputs": [
        {
          "output_type": "stream",
          "name": "stdout",
          "text": [
            "[ 1.  2.  3.  4.  5.  6.  7.  8.  9. 10. 11. 12. 13. 14. 15. 16. 17. 18.]\n"
          ]
        }
      ],
      "source": [
        "def sliding_window(a, n=3) :\n",
        "    ret = np.cumsum(a, dtype=float)\n",
        "    ret[n:] = ret[n:] - ret[:-n]\n",
        "    return ret[n - 1:] / n\n",
        "Z = np.arange(20)\n",
        "print(sliding_window(Z, n=3))"
      ]
    },
    {
      "cell_type": "markdown",
      "metadata": {
        "id": "FkMKgeOETng5"
      },
      "source": [
        "#### 76. Consider a one-dimensional array Z, build a two-dimensional array whose first row is (Z\\[0\\],Z\\[1\\],Z\\[2\\]) and each subsequent row is  shifted by 1 (last row should be (Z\\[-3\\],Z\\[-2\\],Z\\[-1\\]) (★★★) \n",
        "(**hint**: from numpy.lib import stride_tricks)"
      ]
    },
    {
      "cell_type": "code",
      "execution_count": null,
      "metadata": {
        "id": "u76VoFZNTng5",
        "colab": {
          "base_uri": "https://localhost:8080/"
        },
        "outputId": "1649e39e-e85b-4afe-cb80-ee4898bd6a66"
      },
      "outputs": [
        {
          "output_type": "stream",
          "name": "stdout",
          "text": [
            "[0 1 2 3 4 5 6 7 8 9]\n"
          ]
        },
        {
          "output_type": "execute_result",
          "data": {
            "text/plain": [
              "array([[0, 1, 2],\n",
              "       [1, 2, 3],\n",
              "       [2, 3, 4],\n",
              "       [3, 4, 5],\n",
              "       [4, 5, 6],\n",
              "       [5, 6, 7],\n",
              "       [6, 7, 8],\n",
              "       [7, 8, 9]])"
            ]
          },
          "metadata": {},
          "execution_count": 78
        }
      ],
      "source": [
        "from numpy.lib import stride_tricks\n",
        "\n",
        "def one_two(a, window):\n",
        "    print(a)\n",
        "    shape = (a.size - window + 1, window)\n",
        "    strides = (a.strides[0], a.strides[0])\n",
        "    return stride_tricks.as_strided(a, shape=shape, strides=strides)\n",
        "z=one_two(np.arange(10), 3)\n",
        "z\n"
      ]
    },
    {
      "cell_type": "markdown",
      "metadata": {
        "id": "UA3FmSMNTng5"
      },
      "source": [
        "#### 77. How to negate a boolean, or to change the sign of a float inplace? (★★★) \n",
        "(**hint**: np.logical_not, np.negative)"
      ]
    },
    {
      "cell_type": "code",
      "execution_count": null,
      "metadata": {
        "id": "_0PSczndTng6",
        "colab": {
          "base_uri": "https://localhost:8080/"
        },
        "outputId": "8eb7c7a6-5ee8-4b0a-a3de-e74563a0ccd1"
      },
      "outputs": [
        {
          "output_type": "stream",
          "name": "stdout",
          "text": [
            "[-7.21152126e-01 -6.96487759e-02  9.91136773e-01  4.09359464e-01\n",
            " -2.31478508e-01 -5.21955001e-01  7.37268715e-01 -2.11491415e-01\n",
            " -5.82540645e-04 -2.15769934e-01  5.15989600e-01 -8.02335802e-01\n",
            "  5.81226627e-01 -2.25360913e-01  1.62906488e-01 -9.29592437e-01\n",
            " -8.22676905e-02  6.79723260e-02  6.47684700e-01 -5.42633309e-02\n",
            " -9.03611778e-01  3.70822990e-01 -2.23361247e-01 -5.68676372e-01\n",
            " -9.75127843e-01 -3.67399938e-01 -9.80105554e-01 -8.83433737e-02\n",
            " -6.75372130e-01 -3.31294844e-01  4.61911553e-01 -9.04248000e-01\n",
            " -4.89003812e-03 -1.51451336e-01  3.15364063e-01  3.14224224e-01\n",
            "  6.56873627e-01 -7.63113017e-01 -9.22909242e-01 -8.26882205e-01\n",
            "  8.57840790e-01 -3.30523927e-01  4.80139600e-02  3.43420248e-01\n",
            " -1.52699393e-01 -7.98015637e-02 -1.88219829e-01  6.98138153e-01\n",
            "  1.65070338e-02  9.64404465e-01 -8.97903577e-01  2.54903045e-01\n",
            " -3.82855949e-02  7.57811734e-01  1.65956401e-01 -9.72420781e-01\n",
            " -2.46722330e-01 -1.43901771e-01  7.79564724e-01  2.28244889e-01\n",
            " -8.15490267e-01 -3.46899555e-01  6.13285701e-01  8.82037198e-01\n",
            "  3.95454490e-01 -4.68390602e-02 -6.92305465e-01  4.91147402e-01\n",
            " -9.70863915e-01 -9.95314229e-01  1.49838448e-01 -1.44070873e-01\n",
            " -4.21116514e-01  1.81866450e-02 -9.82891087e-02 -9.16944514e-01\n",
            "  1.07655090e-01 -8.07489128e-01  4.24709377e-01  5.89415904e-01\n",
            "  5.15978453e-02  2.90026415e-01 -1.08005796e-01  2.57678047e-01\n",
            " -3.10261169e-01 -3.07906945e-01 -9.28676054e-01 -1.01186651e-02\n",
            " -1.31525145e-01 -2.56315616e-01  9.26781632e-01  6.20183550e-01\n",
            "  6.55615651e-01  8.82648455e-01 -9.80706124e-02  7.08524613e-01\n",
            "  7.04725841e-01  7.49640584e-01  5.56026085e-01 -8.20057837e-01]\n"
          ]
        },
        {
          "output_type": "execute_result",
          "data": {
            "text/plain": [
              "array([ 7.21152126e-01,  6.96487759e-02, -9.91136773e-01, -4.09359464e-01,\n",
              "        2.31478508e-01,  5.21955001e-01, -7.37268715e-01,  2.11491415e-01,\n",
              "        5.82540645e-04,  2.15769934e-01, -5.15989600e-01,  8.02335802e-01,\n",
              "       -5.81226627e-01,  2.25360913e-01, -1.62906488e-01,  9.29592437e-01,\n",
              "        8.22676905e-02, -6.79723260e-02, -6.47684700e-01,  5.42633309e-02,\n",
              "        9.03611778e-01, -3.70822990e-01,  2.23361247e-01,  5.68676372e-01,\n",
              "        9.75127843e-01,  3.67399938e-01,  9.80105554e-01,  8.83433737e-02,\n",
              "        6.75372130e-01,  3.31294844e-01, -4.61911553e-01,  9.04248000e-01,\n",
              "        4.89003812e-03,  1.51451336e-01, -3.15364063e-01, -3.14224224e-01,\n",
              "       -6.56873627e-01,  7.63113017e-01,  9.22909242e-01,  8.26882205e-01,\n",
              "       -8.57840790e-01,  3.30523927e-01, -4.80139600e-02, -3.43420248e-01,\n",
              "        1.52699393e-01,  7.98015637e-02,  1.88219829e-01, -6.98138153e-01,\n",
              "       -1.65070338e-02, -9.64404465e-01,  8.97903577e-01, -2.54903045e-01,\n",
              "        3.82855949e-02, -7.57811734e-01, -1.65956401e-01,  9.72420781e-01,\n",
              "        2.46722330e-01,  1.43901771e-01, -7.79564724e-01, -2.28244889e-01,\n",
              "        8.15490267e-01,  3.46899555e-01, -6.13285701e-01, -8.82037198e-01,\n",
              "       -3.95454490e-01,  4.68390602e-02,  6.92305465e-01, -4.91147402e-01,\n",
              "        9.70863915e-01,  9.95314229e-01, -1.49838448e-01,  1.44070873e-01,\n",
              "        4.21116514e-01, -1.81866450e-02,  9.82891087e-02,  9.16944514e-01,\n",
              "       -1.07655090e-01,  8.07489128e-01, -4.24709377e-01, -5.89415904e-01,\n",
              "       -5.15978453e-02, -2.90026415e-01,  1.08005796e-01, -2.57678047e-01,\n",
              "        3.10261169e-01,  3.07906945e-01,  9.28676054e-01,  1.01186651e-02,\n",
              "        1.31525145e-01,  2.56315616e-01, -9.26781632e-01, -6.20183550e-01,\n",
              "       -6.55615651e-01, -8.82648455e-01,  9.80706124e-02, -7.08524613e-01,\n",
              "       -7.04725841e-01, -7.49640584e-01, -5.56026085e-01,  8.20057837e-01])"
            ]
          },
          "metadata": {},
          "execution_count": 79
        }
      ],
      "source": [
        "arr = np.random.uniform(-1.0,1.0,100)\n",
        "print(arr)\n",
        "np.negative(arr, out=arr)"
      ]
    },
    {
      "cell_type": "code",
      "source": [
        "ar = np.random.randint(0,2,100)\n",
        "np.logical_not(ar, out=ar)"
      ],
      "metadata": {
        "colab": {
          "base_uri": "https://localhost:8080/"
        },
        "id": "7wUKdFJvRVCX",
        "outputId": "e98c4497-2628-4208-99bb-639c23f425f9"
      },
      "execution_count": null,
      "outputs": [
        {
          "output_type": "execute_result",
          "data": {
            "text/plain": [
              "array([0, 0, 0, 1, 1, 1, 0, 1, 1, 1, 0, 1, 1, 1, 0, 1, 1, 0, 0, 1, 0, 0,\n",
              "       0, 0, 1, 0, 0, 0, 1, 1, 0, 0, 1, 1, 0, 0, 1, 0, 0, 0, 0, 0, 1, 0,\n",
              "       0, 1, 1, 0, 1, 0, 1, 1, 1, 1, 1, 0, 1, 0, 1, 0, 1, 1, 0, 1, 0, 0,\n",
              "       1, 1, 1, 0, 0, 0, 0, 0, 1, 1, 0, 0, 0, 1, 0, 1, 0, 0, 0, 1, 0, 1,\n",
              "       1, 1, 1, 1, 1, 1, 1, 0, 0, 1, 1, 1])"
            ]
          },
          "metadata": {},
          "execution_count": 80
        }
      ]
    },
    {
      "cell_type": "markdown",
      "metadata": {
        "id": "QW14jnnlTng6"
      },
      "source": [
        "#### 78. Consider 2 sets of points P0,P1 describing lines (2d) and a point p, how to compute distance from p to each line i  (P0\\[i\\],P1\\[i\\])? (★★★)"
      ]
    },
    {
      "cell_type": "code",
      "execution_count": null,
      "metadata": {
        "id": "Ru65vn2CTng6",
        "colab": {
          "base_uri": "https://localhost:8080/"
        },
        "outputId": "b6c315b6-5460-4976-ef9b-9584e8e99b02"
      },
      "outputs": [
        {
          "output_type": "stream",
          "name": "stdout",
          "text": [
            "[ 7.82587029  2.51493128  3.58806665  6.97467952 11.15072937  9.34124258\n",
            "  5.29687976  5.76713714  6.3967531   1.95017715]\n"
          ]
        }
      ],
      "source": [
        "def distance(P0, P1, p):\n",
        "    T = P1 - P0\n",
        "    L = (T**2).sum(axis=1)\n",
        "    U = -((P0[:,0]-p[...,0])*T[:,0] + (P0[:,1]-p[...,1])*T[:,1]) / L\n",
        "    U = U.reshape(len(U),1)\n",
        "    D = P0 + U*T - p\n",
        "    return np.sqrt((D**2).sum(axis=1))\n",
        "\n",
        "P0 = np.random.uniform(-10,10,(10,2))\n",
        "P1 = np.random.uniform(-10,10,(10,2))\n",
        "p  = np.random.uniform(-10,10,( 1,2))\n",
        "print(distance(P0, P1, p))"
      ]
    },
    {
      "cell_type": "markdown",
      "metadata": {
        "id": "uOuiN79ITng6"
      },
      "source": [
        "#### 79. Consider 2 sets of points P0,P1 describing lines (2d) and a set of points P, how to compute distance from each point j (P\\[j\\]) to each line i (P0\\[i\\],P1\\[i\\])? (★★★)"
      ]
    },
    {
      "cell_type": "code",
      "execution_count": null,
      "metadata": {
        "id": "8eWX6RppTng7",
        "colab": {
          "base_uri": "https://localhost:8080/"
        },
        "outputId": "ce0d6396-429e-44ff-fe9a-36c0af4d81a3"
      },
      "outputs": [
        {
          "output_type": "stream",
          "name": "stdout",
          "text": [
            "[[ 6.18696004  2.07717342  8.90703742 14.83269992  1.74758055]\n",
            " [ 6.51323609  2.51899176  6.77759755 12.70361333  1.72010677]\n",
            " [ 0.72199067  2.90873667  5.37305598  0.5536547   8.51984054]\n",
            " [ 5.64083088  1.69962738  4.98278325 10.90889875  2.69573653]\n",
            " [ 0.52294472  2.92759707  9.25983265  3.3326143  13.50086703]]\n"
          ]
        }
      ],
      "source": [
        "P0 = np.random.uniform(-10, 10, (5,2))\n",
        "P1 = np.random.uniform(-10,10,(5,2))\n",
        "p = np.random.uniform(-10, 10, (5,2))\n",
        "print (np.array([distance(P0,P1,p_i) for p_i in p]))"
      ]
    },
    {
      "cell_type": "markdown",
      "metadata": {
        "id": "TGhvtXxwTng7"
      },
      "source": [
        "#### 80. Consider an arbitrary array, write a function that extract a subpart with a fixed shape and centered on a given element (pad with a `fill` value when necessary) (★★★) \n",
        "(**hint**: minimum, maximum)"
      ]
    },
    {
      "cell_type": "code",
      "execution_count": null,
      "metadata": {
        "id": "1jhkf3yDTng7",
        "colab": {
          "base_uri": "https://localhost:8080/"
        },
        "outputId": "88435a7c-5650-46df-f1b2-7bab60bef7af"
      },
      "outputs": [
        {
          "output_type": "stream",
          "name": "stdout",
          "text": [
            "[[6 7 0 4 4 9 1 9 4 6]\n",
            " [6 7 5 3 0 1 5 6 5 8]\n",
            " [2 5 1 2 8 2 1 1 0 1]\n",
            " [0 3 7 8 7 8 9 2 4 5]\n",
            " [3 9 3 1 6 2 6 7 3 4]\n",
            " [4 2 4 6 2 9 7 8 2 0]\n",
            " [7 7 2 6 1 7 3 5 2 4]\n",
            " [7 1 8 4 0 9 2 6 1 0]\n",
            " [3 3 9 5 8 9 8 2 1 9]\n",
            " [9 0 6 7 2 1 1 1 7 4]]\n",
            "[[0 0 0 0 0]\n",
            " [0 6 7 0 4]\n",
            " [0 6 7 5 3]\n",
            " [0 2 5 1 2]\n",
            " [0 0 3 7 8]]\n"
          ]
        },
        {
          "output_type": "stream",
          "name": "stderr",
          "text": [
            "/usr/local/lib/python3.7/dist-packages/ipykernel_launcher.py:19: FutureWarning: Using a non-tuple sequence for multidimensional indexing is deprecated; use `arr[tuple(seq)]` instead of `arr[seq]`. In the future this will be interpreted as an array index, `arr[np.array(seq)]`, which will result either in an error or a different result.\n"
          ]
        }
      ],
      "source": [
        "Z = np.random.randint(0,10,(10,10))\n",
        "shape = (5,5)\n",
        "fill  = 0\n",
        "position = (1,1)\n",
        "R = np.ones(shape, dtype=Z.dtype)*fill\n",
        "P  = np.array(list(position)).astype(int)\n",
        "Rs = np.array(list(R.shape)).astype(int)\n",
        "Zs = np.array(list(Z.shape)).astype(int)\n",
        "R_start = np.zeros((len(shape),)).astype(int)\n",
        "R_stop  = np.array(list(shape)).astype(int)\n",
        "Z_start = (P-Rs//2)\n",
        "Z_stop  = (P+Rs//2)+Rs%2\n",
        "R_start = (R_start - np.minimum(Z_start,0)).tolist()\n",
        "Z_start = (np.maximum(Z_start,0)).tolist()\n",
        "R_stop = np.maximum(R_start, (R_stop - np.maximum(Z_stop-Zs,0))).tolist()\n",
        "Z_stop = (np.minimum(Z_stop,Zs)).tolist()\n",
        "r = [slice(start,stop) for start,stop in zip(R_start,R_stop)]\n",
        "z = [slice(start,stop) for start,stop in zip(Z_start,Z_stop)]\n",
        "R[r] = Z[z]\n",
        "print(Z)\n",
        "print(R)"
      ]
    },
    {
      "cell_type": "markdown",
      "metadata": {
        "id": "XUsiR2gOTng7"
      },
      "source": [
        "#### 81. Consider an array Z = \\[1,2,3,4,5,6,7,8,9,10,11,12,13,14\\], how to generate an array R = \\[\\[1,2,3,4\\], \\[2,3,4,5\\], \\[3,4,5,6\\], ..., \\[11,12,13,14\\]\\]? (★★★) \n",
        "(**hint**: stride\\_tricks.as\\_strided)"
      ]
    },
    {
      "cell_type": "code",
      "execution_count": null,
      "metadata": {
        "id": "REo2FriWTng8",
        "colab": {
          "base_uri": "https://localhost:8080/"
        },
        "outputId": "bfc0a5af-b6d6-4d8a-d1f1-128e94c755f6"
      },
      "outputs": [
        {
          "output_type": "stream",
          "name": "stdout",
          "text": [
            "[[ 1  2  3  4]\n",
            " [ 2  3  4  5]\n",
            " [ 3  4  5  6]\n",
            " [ 4  5  6  7]\n",
            " [ 5  6  7  8]\n",
            " [ 6  7  8  9]\n",
            " [ 7  8  9 10]\n",
            " [ 8  9 10 11]\n",
            " [ 9 10 11 12]\n",
            " [10 11 12 13]\n",
            " [11 12 13 14]]\n"
          ]
        }
      ],
      "source": [
        "Z = np.arange(1,15,dtype=np.uint32)\n",
        "R = stride_tricks.as_strided(Z,(11,4),(4,4))\n",
        "print(R)"
      ]
    },
    {
      "cell_type": "markdown",
      "metadata": {
        "id": "bjdf1FPATng8"
      },
      "source": [
        "#### 82. Compute a matrix rank (★★★) \n",
        "(**hint**: np.linalg.svd) (suggestion: np.linalg.svd)"
      ]
    },
    {
      "cell_type": "code",
      "execution_count": null,
      "metadata": {
        "id": "Z5BZV6IrTng8",
        "colab": {
          "base_uri": "https://localhost:8080/"
        },
        "outputId": "4b53d357-6383-4014-b7ff-f28bfcfa8697"
      },
      "outputs": [
        {
          "output_type": "stream",
          "name": "stdout",
          "text": [
            "10\n"
          ]
        }
      ],
      "source": [
        "Z = np.random.uniform(0,1,(10,10))\n",
        "U, S, V = np.linalg.svd(Z) # Singular Value Decomposition\n",
        "rank = np.sum(S > 1e-10)\n",
        "print(rank)"
      ]
    },
    {
      "cell_type": "markdown",
      "metadata": {
        "id": "PVPw3xSNTng8"
      },
      "source": [
        "#### 83. How to find the most frequent value in an array? \n",
        "(**hint**: np.bincount, argmax)"
      ]
    },
    {
      "cell_type": "code",
      "execution_count": null,
      "metadata": {
        "id": "M4nuZ4c_Tng9",
        "colab": {
          "base_uri": "https://localhost:8080/"
        },
        "outputId": "05f36e0e-131e-406e-abd8-6571b9d48fde"
      },
      "outputs": [
        {
          "output_type": "stream",
          "name": "stdout",
          "text": [
            "4\n"
          ]
        }
      ],
      "source": [
        "Z = np.random.randint(0,10,50)\n",
        "print(np.bincount(Z).argmax())"
      ]
    },
    {
      "cell_type": "markdown",
      "metadata": {
        "id": "G5qb3l-NTng9"
      },
      "source": [
        "#### 84. Extract all the contiguous 3x3 blocks from a random 10x10 matrix (★★★) \n",
        "(**hint**: stride\\_tricks.as\\_strided)"
      ]
    },
    {
      "cell_type": "code",
      "execution_count": null,
      "metadata": {
        "id": "ME5zVn34Tng-",
        "colab": {
          "base_uri": "https://localhost:8080/"
        },
        "outputId": "b35915ae-e3b8-4378-e2bb-9a55f427d4df"
      },
      "outputs": [
        {
          "output_type": "stream",
          "name": "stdout",
          "text": [
            "[[[[0 4 3]\n",
            "   [3 3 1]\n",
            "   [0 0 1]]\n",
            "\n",
            "  [[4 3 4]\n",
            "   [3 1 1]\n",
            "   [0 1 2]]\n",
            "\n",
            "  [[3 4 3]\n",
            "   [1 1 4]\n",
            "   [1 2 4]]\n",
            "\n",
            "  [[4 3 2]\n",
            "   [1 4 1]\n",
            "   [2 4 3]]\n",
            "\n",
            "  [[3 2 4]\n",
            "   [4 1 0]\n",
            "   [4 3 0]]\n",
            "\n",
            "  [[2 4 0]\n",
            "   [1 0 4]\n",
            "   [3 0 0]]\n",
            "\n",
            "  [[4 0 4]\n",
            "   [0 4 1]\n",
            "   [0 0 3]]\n",
            "\n",
            "  [[0 4 1]\n",
            "   [4 1 4]\n",
            "   [0 3 0]]]\n",
            "\n",
            "\n",
            " [[[3 3 1]\n",
            "   [0 0 1]\n",
            "   [1 3 1]]\n",
            "\n",
            "  [[3 1 1]\n",
            "   [0 1 2]\n",
            "   [3 1 0]]\n",
            "\n",
            "  [[1 1 4]\n",
            "   [1 2 4]\n",
            "   [1 0 1]]\n",
            "\n",
            "  [[1 4 1]\n",
            "   [2 4 3]\n",
            "   [0 1 0]]\n",
            "\n",
            "  [[4 1 0]\n",
            "   [4 3 0]\n",
            "   [1 0 2]]\n",
            "\n",
            "  [[1 0 4]\n",
            "   [3 0 0]\n",
            "   [0 2 0]]\n",
            "\n",
            "  [[0 4 1]\n",
            "   [0 0 3]\n",
            "   [2 0 3]]\n",
            "\n",
            "  [[4 1 4]\n",
            "   [0 3 0]\n",
            "   [0 3 3]]]\n",
            "\n",
            "\n",
            " [[[0 0 1]\n",
            "   [1 3 1]\n",
            "   [4 1 0]]\n",
            "\n",
            "  [[0 1 2]\n",
            "   [3 1 0]\n",
            "   [1 0 2]]\n",
            "\n",
            "  [[1 2 4]\n",
            "   [1 0 1]\n",
            "   [0 2 0]]\n",
            "\n",
            "  [[2 4 3]\n",
            "   [0 1 0]\n",
            "   [2 0 4]]\n",
            "\n",
            "  [[4 3 0]\n",
            "   [1 0 2]\n",
            "   [0 4 0]]\n",
            "\n",
            "  [[3 0 0]\n",
            "   [0 2 0]\n",
            "   [4 0 3]]\n",
            "\n",
            "  [[0 0 3]\n",
            "   [2 0 3]\n",
            "   [0 3 3]]\n",
            "\n",
            "  [[0 3 0]\n",
            "   [0 3 3]\n",
            "   [3 3 2]]]\n",
            "\n",
            "\n",
            " [[[1 3 1]\n",
            "   [4 1 0]\n",
            "   [1 4 4]]\n",
            "\n",
            "  [[3 1 0]\n",
            "   [1 0 2]\n",
            "   [4 4 2]]\n",
            "\n",
            "  [[1 0 1]\n",
            "   [0 2 0]\n",
            "   [4 2 1]]\n",
            "\n",
            "  [[0 1 0]\n",
            "   [2 0 4]\n",
            "   [2 1 4]]\n",
            "\n",
            "  [[1 0 2]\n",
            "   [0 4 0]\n",
            "   [1 4 4]]\n",
            "\n",
            "  [[0 2 0]\n",
            "   [4 0 3]\n",
            "   [4 4 3]]\n",
            "\n",
            "  [[2 0 3]\n",
            "   [0 3 3]\n",
            "   [4 3 4]]\n",
            "\n",
            "  [[0 3 3]\n",
            "   [3 3 2]\n",
            "   [3 4 2]]]\n",
            "\n",
            "\n",
            " [[[4 1 0]\n",
            "   [1 4 4]\n",
            "   [2 4 3]]\n",
            "\n",
            "  [[1 0 2]\n",
            "   [4 4 2]\n",
            "   [4 3 0]]\n",
            "\n",
            "  [[0 2 0]\n",
            "   [4 2 1]\n",
            "   [3 0 1]]\n",
            "\n",
            "  [[2 0 4]\n",
            "   [2 1 4]\n",
            "   [0 1 4]]\n",
            "\n",
            "  [[0 4 0]\n",
            "   [1 4 4]\n",
            "   [1 4 4]]\n",
            "\n",
            "  [[4 0 3]\n",
            "   [4 4 3]\n",
            "   [4 4 1]]\n",
            "\n",
            "  [[0 3 3]\n",
            "   [4 3 4]\n",
            "   [4 1 4]]\n",
            "\n",
            "  [[3 3 2]\n",
            "   [3 4 2]\n",
            "   [1 4 2]]]\n",
            "\n",
            "\n",
            " [[[1 4 4]\n",
            "   [2 4 3]\n",
            "   [3 4 1]]\n",
            "\n",
            "  [[4 4 2]\n",
            "   [4 3 0]\n",
            "   [4 1 3]]\n",
            "\n",
            "  [[4 2 1]\n",
            "   [3 0 1]\n",
            "   [1 3 4]]\n",
            "\n",
            "  [[2 1 4]\n",
            "   [0 1 4]\n",
            "   [3 4 3]]\n",
            "\n",
            "  [[1 4 4]\n",
            "   [1 4 4]\n",
            "   [4 3 2]]\n",
            "\n",
            "  [[4 4 3]\n",
            "   [4 4 1]\n",
            "   [3 2 3]]\n",
            "\n",
            "  [[4 3 4]\n",
            "   [4 1 4]\n",
            "   [2 3 2]]\n",
            "\n",
            "  [[3 4 2]\n",
            "   [1 4 2]\n",
            "   [3 2 4]]]\n",
            "\n",
            "\n",
            " [[[2 4 3]\n",
            "   [3 4 1]\n",
            "   [3 4 3]]\n",
            "\n",
            "  [[4 3 0]\n",
            "   [4 1 3]\n",
            "   [4 3 2]]\n",
            "\n",
            "  [[3 0 1]\n",
            "   [1 3 4]\n",
            "   [3 2 3]]\n",
            "\n",
            "  [[0 1 4]\n",
            "   [3 4 3]\n",
            "   [2 3 0]]\n",
            "\n",
            "  [[1 4 4]\n",
            "   [4 3 2]\n",
            "   [3 0 4]]\n",
            "\n",
            "  [[4 4 1]\n",
            "   [3 2 3]\n",
            "   [0 4 4]]\n",
            "\n",
            "  [[4 1 4]\n",
            "   [2 3 2]\n",
            "   [4 4 0]]\n",
            "\n",
            "  [[1 4 2]\n",
            "   [3 2 4]\n",
            "   [4 0 3]]]\n",
            "\n",
            "\n",
            " [[[3 4 1]\n",
            "   [3 4 3]\n",
            "   [0 0 3]]\n",
            "\n",
            "  [[4 1 3]\n",
            "   [4 3 2]\n",
            "   [0 3 2]]\n",
            "\n",
            "  [[1 3 4]\n",
            "   [3 2 3]\n",
            "   [3 2 0]]\n",
            "\n",
            "  [[3 4 3]\n",
            "   [2 3 0]\n",
            "   [2 0 3]]\n",
            "\n",
            "  [[4 3 2]\n",
            "   [3 0 4]\n",
            "   [0 3 3]]\n",
            "\n",
            "  [[3 2 3]\n",
            "   [0 4 4]\n",
            "   [3 3 1]]\n",
            "\n",
            "  [[2 3 2]\n",
            "   [4 4 0]\n",
            "   [3 1 2]]\n",
            "\n",
            "  [[3 2 4]\n",
            "   [4 0 3]\n",
            "   [1 2 3]]]]\n"
          ]
        }
      ],
      "source": [
        "Z = np.random.randint(0,5,(10,10))\n",
        "n = 3\n",
        "i = 1 + (Z.shape[0]-3)\n",
        "j = 1 + (Z.shape[1]-3)\n",
        "C = stride_tricks.as_strided(Z, shape=(i, j, n, n), strides=Z.strides + Z.strides)\n",
        "print(C)"
      ]
    },
    {
      "cell_type": "markdown",
      "metadata": {
        "id": "xqtopgoBTng-"
      },
      "source": [
        "#### 85. Create a 2D array subclass such that Z\\[i,j\\] == Z\\[j,i\\] (★★★) \n",
        "(**hint**: class method)"
      ]
    },
    {
      "cell_type": "code",
      "execution_count": null,
      "metadata": {
        "id": "LLVYfWO6Tng_",
        "colab": {
          "base_uri": "https://localhost:8080/"
        },
        "outputId": "966507bc-0b23-434d-f5e6-ca115d174a68"
      },
      "outputs": [
        {
          "output_type": "stream",
          "name": "stdout",
          "text": [
            "[[ 4 10 10  6 10]\n",
            " [10  3  9  9 14]\n",
            " [10  9  3 42  9]\n",
            " [ 6  9 42  2  5]\n",
            " [10 14  9  5  0]]\n"
          ]
        }
      ],
      "source": [
        "class Symetric(np.ndarray):\n",
        "    def __setitem__(self, index, value):\n",
        "        i,j = index\n",
        "        super(Symetric, self).__setitem__((i,j), value)\n",
        "        super(Symetric, self).__setitem__((j,i), value)\n",
        "\n",
        "def symetric(Z):\n",
        "    return np.asarray(Z + Z.T - np.diag(Z.diagonal())).view(Symetric)\n",
        "\n",
        "S = symetric(np.random.randint(0,10,(5,5)))\n",
        "S[2,3] = 42\n",
        "print(S)"
      ]
    },
    {
      "cell_type": "markdown",
      "metadata": {
        "id": "2t7yxxltTng_"
      },
      "source": [
        "#### 86. Consider a set of p matrices wich shape (n,n) and a set of p vectors with shape (n,1). How to compute the sum of of the p matrix products at once? (result has shape (n,1)) (★★★) \n",
        "(**hint**: np.tensordot)"
      ]
    },
    {
      "cell_type": "code",
      "execution_count": null,
      "metadata": {
        "id": "fsacQsfrTnhA",
        "colab": {
          "base_uri": "https://localhost:8080/"
        },
        "outputId": "a4c0452c-46ea-4ae8-9358-7f7279c60955"
      },
      "outputs": [
        {
          "output_type": "stream",
          "name": "stdout",
          "text": [
            "[[200.]\n",
            " [200.]\n",
            " [200.]\n",
            " [200.]\n",
            " [200.]\n",
            " [200.]\n",
            " [200.]\n",
            " [200.]\n",
            " [200.]\n",
            " [200.]\n",
            " [200.]\n",
            " [200.]\n",
            " [200.]\n",
            " [200.]\n",
            " [200.]\n",
            " [200.]\n",
            " [200.]\n",
            " [200.]\n",
            " [200.]\n",
            " [200.]]\n"
          ]
        }
      ],
      "source": [
        "p, n = 10, 20\n",
        "M = np.ones((p,n,n))\n",
        "V = np.ones((p,n,1))\n",
        "S = np.tensordot(M, V, axes=[[0, 2], [0, 1]])\n",
        "print(S)"
      ]
    },
    {
      "cell_type": "markdown",
      "metadata": {
        "id": "7UBBsevGTnhA"
      },
      "source": [
        "#### 87. Consider a 16x16 array, how to get the block-sum (block size is 4x4)? (★★★) \n",
        "(**hint**: np.add.reduceat)"
      ]
    },
    {
      "cell_type": "code",
      "execution_count": null,
      "metadata": {
        "id": "nKK-n1IuTnhB",
        "colab": {
          "base_uri": "https://localhost:8080/"
        },
        "outputId": "33de7087-8a0b-4e53-a871-fa61f2e8ba92"
      },
      "outputs": [
        {
          "output_type": "stream",
          "name": "stdout",
          "text": [
            "[[16. 16. 16. 16.]\n",
            " [16. 16. 16. 16.]\n",
            " [16. 16. 16. 16.]\n",
            " [16. 16. 16. 16.]]\n"
          ]
        }
      ],
      "source": [
        "Z = np.ones((16,16))\n",
        "k = 4\n",
        "S = np.add.reduceat(np.add.reduceat(Z, np.arange(0, Z.shape[0], k), axis=0),\n",
        "                                       np.arange(0, Z.shape[1], k), axis=1)\n",
        "print(S)"
      ]
    },
    {
      "cell_type": "markdown",
      "metadata": {
        "id": "kY9S9LmETnhB"
      },
      "source": [
        "#### 88. How to implement the Game of Life using numpy arrays? (★★★)"
      ]
    },
    {
      "cell_type": "code",
      "execution_count": null,
      "metadata": {
        "id": "S8UVRBeSTnhB",
        "colab": {
          "base_uri": "https://localhost:8080/"
        },
        "outputId": "0457726c-0cb6-4c19-d5ea-46fb1e87406e"
      },
      "outputs": [
        {
          "output_type": "stream",
          "name": "stdout",
          "text": [
            "[[0 0 0 0 0 0 0 0 0 0 0 0 0 0 0 0 0 0 0 0 0 0 0 0 0 0 0 0 0 0 0 0 0 0 0 0\n",
            "  0 0 0 0 0 0 0 0 0 0 0 0 0 0]\n",
            " [0 0 0 0 0 0 0 0 0 0 0 0 0 0 0 0 0 1 1 0 0 0 0 0 0 0 0 0 0 0 1 0 0 0 0 0\n",
            "  0 0 0 0 0 0 0 0 0 0 0 1 1 0]\n",
            " [0 0 0 0 0 0 0 0 0 0 0 0 0 0 0 0 0 1 1 0 0 0 0 0 0 0 0 0 0 1 1 1 0 0 0 0\n",
            "  0 0 0 0 0 0 0 0 0 0 0 1 1 0]\n",
            " [0 0 0 0 0 0 0 0 0 0 0 0 0 0 0 0 0 0 0 0 0 0 0 0 0 0 0 0 0 0 0 0 1 0 0 1\n",
            "  1 1 0 0 0 0 0 0 0 0 0 0 0 0]\n",
            " [0 0 0 0 0 0 0 0 0 0 0 0 0 0 0 0 0 0 0 0 0 0 0 0 0 0 0 0 0 0 1 0 1 1 0 1\n",
            "  0 1 0 0 0 0 0 0 1 0 0 0 0 0]\n",
            " [0 0 0 0 0 0 0 0 0 0 0 0 0 0 0 0 0 0 0 0 0 0 0 0 0 0 0 0 0 0 1 0 0 1 0 1\n",
            "  1 1 0 0 0 0 0 0 1 0 0 0 0 0]\n",
            " [0 0 0 0 0 0 0 0 0 0 0 0 0 0 0 0 0 0 0 0 1 1 0 0 0 0 0 0 1 1 0 0 0 0 0 0\n",
            "  0 0 0 0 0 0 0 0 1 0 0 0 0 0]\n",
            " [0 0 0 0 0 0 0 0 0 0 0 0 0 0 0 0 0 0 0 0 1 1 0 0 0 0 0 1 0 0 0 0 1 1 0 0\n",
            "  0 0 0 0 0 0 0 0 0 0 0 0 0 0]\n",
            " [0 0 0 0 0 0 0 0 0 0 0 0 0 0 0 0 0 0 0 0 0 0 0 0 0 0 0 0 0 0 1 0 0 0 1 0\n",
            "  0 0 0 0 0 0 0 0 0 0 0 0 0 0]\n",
            " [0 0 0 0 0 0 0 0 0 0 0 0 0 0 0 0 0 0 0 0 1 1 0 0 0 0 0 1 1 0 0 0 1 1 1 0\n",
            "  0 0 0 0 0 0 0 0 0 0 0 0 0 0]\n",
            " [0 0 0 0 0 0 0 0 0 0 0 0 0 0 0 0 0 0 0 0 1 1 0 0 0 0 0 0 0 0 0 0 0 0 0 0\n",
            "  0 0 0 0 0 0 0 0 0 0 0 0 0 0]\n",
            " [0 0 0 0 0 0 0 0 0 0 0 0 0 0 0 0 0 0 0 0 0 0 0 0 0 0 0 0 0 0 0 0 0 0 0 0\n",
            "  0 0 0 0 0 0 0 0 0 0 0 0 0 0]\n",
            " [0 0 0 0 0 0 0 0 0 0 0 0 0 0 0 0 0 0 0 0 0 0 0 0 0 0 0 0 0 0 0 0 0 0 0 0\n",
            "  0 0 0 0 0 0 0 0 0 0 0 0 0 0]\n",
            " [0 0 0 0 0 0 0 0 0 0 0 0 0 0 0 0 0 0 0 0 0 0 0 0 0 0 0 0 0 1 1 0 0 0 0 0\n",
            "  0 0 0 0 0 0 0 0 0 0 0 0 0 0]\n",
            " [0 0 0 0 0 0 0 0 0 0 0 0 0 0 0 0 0 0 0 0 0 0 0 0 0 0 0 0 0 0 0 0 0 0 0 0\n",
            "  0 0 0 0 0 0 0 0 0 0 0 0 0 0]\n",
            " [0 0 0 0 0 0 0 0 0 0 0 0 0 0 0 0 0 1 0 0 0 0 0 0 0 0 0 0 0 0 0 0 0 0 0 0\n",
            "  0 0 0 0 0 0 0 0 0 0 0 0 0 0]\n",
            " [0 0 0 0 0 0 0 0 0 0 0 0 0 0 0 0 1 0 1 0 0 0 0 0 0 0 0 0 0 0 0 0 0 0 0 0\n",
            "  0 0 0 0 0 0 0 0 0 0 0 0 0 0]\n",
            " [0 0 0 0 0 0 0 0 0 1 1 0 0 0 0 0 0 1 1 0 0 0 0 0 0 0 0 0 0 0 0 0 0 0 0 0\n",
            "  0 0 0 0 0 1 0 0 0 0 0 0 0 0]\n",
            " [0 0 0 0 0 0 0 1 1 0 1 0 0 0 0 0 0 0 0 0 0 0 0 0 0 0 0 0 0 0 0 0 0 0 0 0\n",
            "  0 0 0 0 1 0 1 0 0 0 0 0 0 0]\n",
            " [0 0 0 0 0 0 1 0 1 1 0 0 1 1 1 1 0 0 0 0 0 0 0 0 0 0 0 0 0 0 0 1 0 0 0 0\n",
            "  0 0 0 0 0 1 1 1 0 0 0 0 0 0]\n",
            " [0 0 0 0 0 0 1 0 1 0 0 0 0 0 0 1 0 0 0 0 0 0 0 0 0 0 0 1 0 0 0 1 0 0 0 0\n",
            "  0 0 0 0 0 0 0 1 1 0 0 0 0 0]\n",
            " [0 0 0 0 0 0 1 0 0 0 0 1 0 1 1 1 1 0 0 0 0 0 0 0 0 0 1 0 0 0 0 0 1 0 0 0\n",
            "  0 0 1 0 0 0 1 0 1 0 0 0 0 0]\n",
            " [0 0 0 0 0 0 1 1 0 0 1 1 0 1 1 1 0 0 0 0 0 0 0 0 0 0 0 1 0 1 1 0 0 0 1 1\n",
            "  1 1 0 1 0 0 0 1 0 0 0 0 0 0]\n",
            " [0 0 0 0 0 0 0 0 1 1 0 1 0 0 1 1 0 0 0 0 0 0 0 0 0 0 0 0 0 0 0 0 0 0 1 0\n",
            "  1 0 0 1 0 0 0 0 0 0 0 0 0 0]\n",
            " [0 0 0 0 0 0 0 0 0 1 1 1 0 0 1 1 0 0 0 1 1 1 0 1 1 0 0 0 1 0 1 1 0 0 1 0\n",
            "  0 1 0 0 0 0 0 0 0 1 1 0 0 0]\n",
            " [0 0 0 0 0 0 0 0 0 0 0 0 0 0 0 0 0 0 0 0 0 0 0 1 1 0 0 1 1 0 0 0 1 0 1 0\n",
            "  0 0 0 0 0 1 1 0 1 0 0 1 0 0]\n",
            " [0 0 0 0 0 0 0 0 0 0 0 0 0 0 0 0 0 0 0 0 0 0 0 0 0 0 0 0 1 0 0 0 1 0 1 0\n",
            "  0 0 0 0 1 1 1 1 1 0 1 0 0 0]\n",
            " [0 0 0 0 0 0 0 0 0 0 0 0 0 0 0 0 0 0 0 0 0 0 0 0 0 0 0 0 0 1 0 0 0 0 0 1\n",
            "  1 0 0 0 1 1 0 1 1 1 0 0 0 0]\n",
            " [0 0 0 0 0 0 0 0 0 0 0 0 0 0 0 0 0 0 0 0 0 0 0 0 0 0 0 0 0 0 1 1 1 1 1 1\n",
            "  1 0 0 0 0 0 0 0 0 0 0 0 0 0]\n",
            " [0 0 0 0 0 0 0 0 0 0 0 0 0 0 0 0 0 0 0 0 0 0 0 0 0 0 0 0 0 0 0 1 1 0 0 0\n",
            "  1 1 0 0 0 0 0 0 0 0 0 0 0 0]\n",
            " [0 0 0 0 0 0 0 0 0 0 0 0 0 0 0 0 0 0 0 0 0 0 0 0 0 0 0 0 0 0 0 0 0 0 0 0\n",
            "  0 0 0 0 0 0 0 0 0 0 0 0 0 0]\n",
            " [0 0 0 0 0 0 0 0 0 0 0 0 0 0 0 0 0 0 0 0 0 0 0 0 0 0 0 0 0 0 0 0 0 0 0 0\n",
            "  0 0 0 0 0 0 0 0 0 0 0 0 0 0]\n",
            " [0 0 0 0 0 0 0 0 0 0 0 0 0 0 0 0 0 0 0 0 0 0 0 0 0 0 0 0 0 0 0 0 0 0 0 0\n",
            "  0 0 0 0 0 0 0 0 0 0 0 0 0 0]\n",
            " [0 0 0 0 0 0 0 0 0 0 0 0 0 0 0 0 0 0 0 0 0 0 0 0 0 0 0 0 0 0 0 0 0 0 0 0\n",
            "  0 0 0 0 0 0 0 0 0 0 0 0 0 0]\n",
            " [0 0 0 0 0 0 0 0 0 0 0 0 0 0 0 0 0 0 0 0 0 0 0 0 0 0 0 0 0 0 0 0 0 0 0 0\n",
            "  0 0 0 0 0 0 0 0 0 0 0 0 0 0]\n",
            " [0 0 0 0 0 0 0 0 0 0 0 0 0 0 0 1 0 0 0 0 0 0 0 0 1 1 0 0 0 0 0 0 0 0 0 0\n",
            "  0 0 0 0 0 0 0 0 0 0 0 1 1 0]\n",
            " [0 0 0 0 0 0 0 0 0 0 0 0 0 0 1 1 1 0 0 0 0 0 0 0 1 1 0 0 0 0 0 0 0 0 0 0\n",
            "  0 0 0 0 0 0 0 0 0 0 0 1 1 0]\n",
            " [0 0 0 0 0 0 0 0 0 0 0 0 0 0 1 0 1 0 0 0 0 0 0 0 0 0 0 0 0 0 0 0 0 0 0 0\n",
            "  0 0 0 0 0 0 0 0 0 0 0 0 0 0]\n",
            " [0 0 0 0 0 0 0 0 0 0 0 0 0 0 0 0 1 1 0 0 0 0 0 0 0 0 0 0 0 0 0 0 0 0 0 0\n",
            "  0 0 0 0 0 0 0 0 0 0 0 0 0 0]\n",
            " [0 0 0 0 0 0 0 0 0 0 0 0 0 0 0 0 0 0 0 0 0 0 0 0 0 0 0 0 0 0 0 0 0 0 0 0\n",
            "  0 0 0 0 0 0 0 0 0 0 0 0 0 0]\n",
            " [0 0 0 0 0 0 0 0 0 0 0 0 0 0 0 0 0 0 0 0 0 0 0 0 0 0 0 0 0 0 0 0 0 0 0 0\n",
            "  0 0 0 0 0 0 0 0 0 0 0 0 0 0]\n",
            " [0 0 0 0 0 0 0 0 0 0 0 0 0 0 0 0 0 0 0 0 0 0 0 0 0 0 0 0 0 0 0 0 0 0 0 0\n",
            "  0 0 0 0 0 0 0 0 0 0 0 0 0 0]\n",
            " [0 0 0 0 0 0 0 0 0 0 1 1 1 0 0 0 0 0 0 0 0 0 0 0 0 0 0 0 0 0 0 0 0 0 0 0\n",
            "  0 0 0 0 0 0 0 0 0 0 0 0 0 0]\n",
            " [0 0 0 0 0 0 0 0 1 1 0 1 0 0 0 0 0 0 0 0 0 0 0 0 0 0 0 0 0 0 0 0 0 0 0 0\n",
            "  0 0 0 0 0 0 0 0 0 0 0 0 0 0]\n",
            " [0 0 0 0 0 0 0 0 1 0 1 0 1 1 0 0 0 0 0 0 0 1 1 0 0 0 0 0 0 0 0 0 0 0 1 0\n",
            "  0 0 0 1 1 0 0 0 0 0 0 0 0 0]\n",
            " [0 0 0 0 0 0 0 0 1 0 0 1 1 0 1 1 0 0 0 0 0 1 1 0 0 0 0 0 0 0 0 0 0 1 0 1\n",
            "  0 0 1 1 0 0 0 0 0 0 0 0 0 0]\n",
            " [0 0 0 0 0 0 0 0 0 0 0 1 1 0 1 1 0 0 0 0 0 0 0 0 0 0 0 0 0 0 0 0 0 1 0 1\n",
            "  1 0 1 1 0 0 0 0 0 0 0 0 0 0]\n",
            " [0 0 0 0 0 0 0 0 0 0 0 0 0 1 0 0 0 0 0 0 0 0 0 0 0 0 0 0 0 0 0 0 0 0 1 1\n",
            "  1 0 0 0 0 0 0 0 0 0 0 0 0 0]\n",
            " [0 0 0 0 0 0 0 0 0 0 0 0 0 0 0 0 0 0 0 0 0 0 0 0 0 0 0 0 0 0 0 0 0 0 0 0\n",
            "  0 0 0 0 0 0 0 0 0 0 0 0 0 0]\n",
            " [0 0 0 0 0 0 0 0 0 0 0 0 0 0 0 0 0 0 0 0 0 0 0 0 0 0 0 0 0 0 0 0 0 0 0 0\n",
            "  0 0 0 0 0 0 0 0 0 0 0 0 0 0]]\n"
          ]
        }
      ],
      "source": [
        "def gameoflife(Z):\n",
        "    N = (Z[0:-2,0:-2] + Z[0:-2,1:-1] + Z[0:-2,2:] +\n",
        "         Z[1:-1,0:-2]                + Z[1:-1,2:] +\n",
        "         Z[2:  ,0:-2] + Z[2:  ,1:-1] + Z[2:  ,2:])\n",
        "    birth = (N==3) & (Z[1:-1,1:-1]==0)\n",
        "    survive = ((N==2) | (N==3)) & (Z[1:-1,1:-1]==1)\n",
        "    Z[...] = 0\n",
        "    Z[1:-1,1:-1][birth | survive] = 1\n",
        "    return Z\n",
        "Z = np.random.randint(0,2,(50,50))\n",
        "for i in range(100): Z = gameoflife(Z)\n",
        "print(Z)"
      ]
    },
    {
      "cell_type": "markdown",
      "metadata": {
        "id": "8WBKvXA8TnhB"
      },
      "source": [
        "#### 89. How to get the n largest values of an array (★★★) \n",
        "(**hint**: np.argsort | np.argpartition)"
      ]
    },
    {
      "cell_type": "code",
      "execution_count": null,
      "metadata": {
        "id": "Wrmn1zt6TnhC",
        "colab": {
          "base_uri": "https://localhost:8080/"
        },
        "outputId": "4a1a4fe2-d396-45d3-baf0-c48db8de3e2f"
      },
      "outputs": [
        {
          "output_type": "stream",
          "name": "stdout",
          "text": [
            "[995 998 994 993 999 997 996 992 991 990]\n"
          ]
        }
      ],
      "source": [
        "arr = np.arange(1000)\n",
        "#print(arr)\n",
        "np.random.shuffle(arr)\n",
        "n = 10\n",
        "print (arr[np.argpartition(-arr,n)[:n]])"
      ]
    },
    {
      "cell_type": "markdown",
      "metadata": {
        "id": "QgMGU_0XTnhD"
      },
      "source": [
        "#### 90. Given an arbitrary number of vectors, build the cartesian product (every combinations of every item) (★★★) \n",
        "(**hint**: np.indices)"
      ]
    },
    {
      "cell_type": "code",
      "execution_count": null,
      "metadata": {
        "scrolled": true,
        "id": "2bHQvS3cTnhD",
        "colab": {
          "base_uri": "https://localhost:8080/"
        },
        "outputId": "da80cbca-2943-4a00-b931-b0cb3ca2a1c8"
      },
      "outputs": [
        {
          "output_type": "stream",
          "name": "stdout",
          "text": [
            "[[1 4 6]\n",
            " [1 4 7]\n",
            " [1 5 6]\n",
            " [1 5 7]\n",
            " [2 4 6]\n",
            " [2 4 7]\n",
            " [2 5 6]\n",
            " [2 5 7]\n",
            " [3 4 6]\n",
            " [3 4 7]\n",
            " [3 5 6]\n",
            " [3 5 7]]\n"
          ]
        }
      ],
      "source": [
        "def cartesian(arrays):\n",
        "    arrays = [np.asarray(a) for a in arrays]\n",
        "    shape = (len(x) for x in arrays)\n",
        "    ix = np.indices(shape, dtype=int)\n",
        "    ix = ix.reshape(len(arrays), -1).T\n",
        "    for n, arr in enumerate(arrays):\n",
        "        ix[:, n] = arrays[n][ix[:, n]]\n",
        "    return ix\n",
        "\n",
        "print (cartesian(([1, 2, 3], [4, 5], [6, 7])))"
      ]
    },
    {
      "cell_type": "markdown",
      "metadata": {
        "id": "O1Tw3V4bTnhD"
      },
      "source": [
        "#### 91. How to create a record array from a regular array? (★★★) \n",
        "(**hint**: np.core.records.fromarrays)"
      ]
    },
    {
      "cell_type": "code",
      "execution_count": null,
      "metadata": {
        "id": "aWRYmvc8TnhE",
        "colab": {
          "base_uri": "https://localhost:8080/"
        },
        "outputId": "473cb6c9-5a6d-42a0-9979-faa60f0a2925"
      },
      "outputs": [
        {
          "output_type": "stream",
          "name": "stdout",
          "text": [
            "[(b'Hi', 2.5, 3) (b'Akash', 5.6, 2)]\n"
          ]
        }
      ],
      "source": [
        "reg = np.array([(\"Hi\", 2.5, 3),(\"Akash\", 5.6, 2)])#regular\n",
        "rec = np.core.records.fromarrays(reg.T,names='col1, col2, col3',formats = 'S8, f8, i8')#record\n",
        "print(rec)"
      ]
    },
    {
      "cell_type": "markdown",
      "metadata": {
        "id": "zrUsqUQ_TnhE"
      },
      "source": [
        "#### 92. Consider a large vector Z, compute Z to the power of 3 using 3 different methods (★★★) \n",
        "(**hint**: np.power, \\*, np.einsum)"
      ]
    },
    {
      "cell_type": "code",
      "execution_count": null,
      "metadata": {
        "id": "jY5AUsOpTnhF"
      },
      "outputs": [],
      "source": [
        "x = np.random.rand(int(5e7))\n",
        "%timeit a=np.power(x,3)#method-1\n",
        "%timeit b=x*x*x#method-2\n",
        "%timeit c=np.einsum('i,i,i->i',x,x,x)#method-3\n",
        "#print(x,a,b,c)"
      ]
    },
    {
      "cell_type": "markdown",
      "metadata": {
        "id": "Rc7VOiBvTnhF"
      },
      "source": [
        "#### 93. Consider two arrays A and B of shape (8,3) and (2,2). How to find rows of A that contain elements of each row of B regardless of the order of the elements in B? (★★★) \n",
        "(**hint**: np.where)"
      ]
    },
    {
      "cell_type": "code",
      "execution_count": null,
      "metadata": {
        "id": "KaFi6kW_TnhF",
        "colab": {
          "base_uri": "https://localhost:8080/"
        },
        "outputId": "51c57ba1-f931-4e82-e387-e5bb6489cf6e"
      },
      "outputs": [
        {
          "output_type": "stream",
          "name": "stdout",
          "text": [
            "A= [[2 0 4]\n",
            " [0 3 2]\n",
            " [1 1 4]\n",
            " [0 0 0]\n",
            " [0 2 4]\n",
            " [4 1 1]\n",
            " [0 3 4]\n",
            " [0 0 3]] \n",
            "B= [[2 2]\n",
            " [3 2]] \n",
            "rows= [0 1 4]\n"
          ]
        }
      ],
      "source": [
        "A = np.random.randint(0,5,(8,3))\n",
        "B = np.random.randint(0,5,(2,2))\n",
        "C = (A[..., np.newaxis, np.newaxis] == B)\n",
        "rows = np.where(C.any((3,1)).all(1))[0]\n",
        "print('A=',A,'\\nB=',B,'\\nrows=',rows)"
      ]
    },
    {
      "cell_type": "markdown",
      "metadata": {
        "id": "d9sd1N8BTnhG"
      },
      "source": [
        "#### 94. Considering a 10x3 matrix, extract rows with unequal values (e.g. \\[2,2,3\\]) (★★★)"
      ]
    },
    {
      "cell_type": "code",
      "execution_count": null,
      "metadata": {
        "id": "yU2xCytRTnhG",
        "colab": {
          "base_uri": "https://localhost:8080/"
        },
        "outputId": "23a476d5-832b-4949-f2c7-341e192a72be"
      },
      "outputs": [
        {
          "output_type": "stream",
          "name": "stdout",
          "text": [
            "[[8 8 8]\n",
            " [5 9 9]\n",
            " [5 5 8]\n",
            " [5 6 9]\n",
            " [6 5 8]\n",
            " [9 8 7]\n",
            " [8 6 8]\n",
            " [8 6 7]\n",
            " [8 5 9]\n",
            " [9 5 8]]\n",
            "[[5 9 9]\n",
            " [5 5 8]\n",
            " [5 6 9]\n",
            " [6 5 8]\n",
            " [9 8 7]\n",
            " [8 6 8]\n",
            " [8 6 7]\n",
            " [8 5 9]\n",
            " [9 5 8]]\n"
          ]
        }
      ],
      "source": [
        "arr = np.random.randint(5,10,(10,3))\n",
        "print(arr)\n",
        "Eq = np.all(arr[:,1:] == arr[:,:-1], axis=1)\n",
        "Uneq = arr[~Eq]\n",
        "print(Uneq)"
      ]
    },
    {
      "cell_type": "markdown",
      "metadata": {
        "id": "MFHcEiR5TnhG"
      },
      "source": [
        "#### 95. Convert a vector of ints into a matrix binary representation (★★★) \n",
        "(**hint**: np.unpackbits)"
      ]
    },
    {
      "cell_type": "code",
      "execution_count": null,
      "metadata": {
        "id": "ByI9sgnWTnhH",
        "colab": {
          "base_uri": "https://localhost:8080/"
        },
        "outputId": "f06a422a-9e87-4bf6-9d58-c8fb5c5c8211"
      },
      "outputs": [
        {
          "output_type": "stream",
          "name": "stdout",
          "text": [
            "[  0   1   2   3  15  16  32  64 128] [[0 0 0 0 0 0 0 0]\n",
            " [0 0 0 0 0 0 0 1]\n",
            " [0 0 0 0 0 0 1 0]\n",
            " [0 0 0 0 0 0 1 1]\n",
            " [0 0 0 0 1 1 1 1]\n",
            " [0 0 0 1 0 0 0 0]\n",
            " [0 0 1 0 0 0 0 0]\n",
            " [0 1 0 0 0 0 0 0]\n",
            " [1 0 0 0 0 0 0 0]]\n"
          ]
        }
      ],
      "source": [
        "I = np.array([0, 1, 2, 3, 15, 16, 32, 64, 128])\n",
        "B = ((I.reshape(-1,1) & (2**np.arange(8))) != 0).astype(int)\n",
        "print(I,B[:,::-1])"
      ]
    },
    {
      "cell_type": "markdown",
      "metadata": {
        "id": "Q-UrY5eTTnhH"
      },
      "source": [
        "#### 96. Given a two dimensional array, how to extract unique rows? (★★★) \n",
        "(**hint**: np.ascontiguousarray)"
      ]
    },
    {
      "cell_type": "code",
      "execution_count": null,
      "metadata": {
        "id": "jVKcTyvFTnhH",
        "colab": {
          "base_uri": "https://localhost:8080/"
        },
        "outputId": "e74cc7f2-740d-4f09-ed43-2b83cea94b7e"
      },
      "outputs": [
        {
          "output_type": "stream",
          "name": "stdout",
          "text": [
            "[[0 0 1]\n",
            " [0 1 0]\n",
            " [0 1 1]\n",
            " [1 0 1]\n",
            " [1 1 1]]\n"
          ]
        }
      ],
      "source": [
        "Z = np.random.randint(0,2,(6,3))\n",
        "T = np.ascontiguousarray(Z).view(np.dtype((np.void, Z.dtype.itemsize * Z.shape[1])))\n",
        "_, idx = np.unique(T, return_index=True)\n",
        "uZ = Z[idx]\n",
        "print(uZ)"
      ]
    },
    {
      "cell_type": "markdown",
      "metadata": {
        "id": "ahONLQA-TnhI"
      },
      "source": [
        "#### 97. Considering 2 vectors A & B, write the einsum equivalent of inner, outer, sum, and mul function (★★★) \n",
        "(**hint**: np.einsum)"
      ]
    },
    {
      "cell_type": "code",
      "execution_count": null,
      "metadata": {
        "id": "uyg1e4eFTnhI",
        "colab": {
          "base_uri": "https://localhost:8080/"
        },
        "outputId": "aa781462-9f7c-4388-b2dd-46607469e256"
      },
      "outputs": [
        {
          "output_type": "execute_result",
          "data": {
            "text/plain": [
              "array([[1.60049058e-02, 7.57387110e-03, 1.10280810e-02, 5.74127674e-03,\n",
              "        1.94691063e-02, 1.36440054e-02, 2.08889888e-02, 9.09695126e-05,\n",
              "        5.54211158e-03, 1.12085154e-02],\n",
              "       [4.86018581e-01, 2.29994611e-01, 3.34888086e-01, 1.74344492e-01,\n",
              "        5.91215439e-01, 4.14325471e-01, 6.34332797e-01, 2.76245758e-03,\n",
              "        1.68296473e-01, 3.40367310e-01],\n",
              "       [1.56060913e-01, 7.38514335e-02, 1.07532803e-01, 5.59821406e-02,\n",
              "        1.89839699e-01, 1.33040204e-01, 2.03684714e-01, 8.87027099e-04,\n",
              "        5.40401176e-02, 1.09292186e-01],\n",
              "       [5.22268788e-01, 2.47149001e-01, 3.59866066e-01, 1.87348159e-01,\n",
              "        6.35311864e-01, 4.45228372e-01, 6.81645176e-01, 2.96849839e-03,\n",
              "        1.80849043e-01, 3.65753964e-01],\n",
              "       [4.56369145e-01, 2.15963850e-01, 3.14458326e-01, 1.63708652e-01,\n",
              "        5.55148497e-01, 3.89049654e-01, 5.95635492e-01, 2.59393458e-03,\n",
              "        1.58029591e-01, 3.19603292e-01],\n",
              "       [3.32921493e-02, 1.57545724e-02, 2.29397488e-02, 1.19425534e-02,\n",
              "        4.04981073e-02, 2.83811894e-02, 4.34516354e-02, 1.89227642e-04,\n",
              "        1.15282657e-02, 2.33150742e-02],\n",
              "       [2.52510641e-02, 1.19493552e-02, 1.73990890e-02, 9.05805685e-03,\n",
              "        3.07165601e-02, 2.15262532e-02, 3.29567197e-02, 1.43523306e-04,\n",
              "        8.74383245e-03, 1.76837617e-02],\n",
              "       [5.81570231e-01, 2.75211739e-01, 4.00727357e-01, 2.08620761e-01,\n",
              "        7.07448877e-01, 4.95782197e-01, 7.59043143e-01, 3.30555900e-03,\n",
              "        2.01383697e-01, 4.07283801e-01],\n",
              "       [3.31123433e-01, 1.56694843e-01, 2.28158546e-01, 1.18780534e-01,\n",
              "        4.02793830e-01, 2.82279068e-01, 4.32169595e-01, 1.88205652e-03,\n",
              "        1.14660032e-01, 2.31891530e-01],\n",
              "       [2.26912928e-01, 1.07380155e-01, 1.56352944e-01, 8.13981618e-02,\n",
              "        2.76027361e-01, 1.93440764e-01, 2.96158044e-01, 1.28973945e-03,\n",
              "        7.85744559e-02, 1.58911091e-01]])"
            ]
          },
          "metadata": {},
          "execution_count": 132
        }
      ],
      "source": [
        "A = np.random.uniform(0,1,10)\n",
        "B = np.random.uniform(0,1,10)\n",
        "np.einsum('i->', A)      \n",
        "np.einsum('i,i->i', A, B) \n",
        "np.einsum('i,i', A, B)    \n",
        "np.einsum('i,j->ij', A, B) "
      ]
    },
    {
      "cell_type": "markdown",
      "metadata": {
        "id": "pzLIypJVTnhI"
      },
      "source": [
        "#### 98. Considering a path described by two vectors (X,Y), how to sample it using equidistant samples (★★★)? \n",
        "(**hint**: np.cumsum, np.interp)"
      ]
    },
    {
      "cell_type": "code",
      "execution_count": null,
      "metadata": {
        "collapsed": true,
        "id": "pjldfSNWTnhJ",
        "colab": {
          "base_uri": "https://localhost:8080/"
        },
        "outputId": "21686935-137c-482c-dbbb-6ad015c1ee5b"
      },
      "outputs": [
        {
          "output_type": "stream",
          "name": "stdout",
          "text": [
            "[ 0.   0.1  0.2  0.3  0.4  0.5  0.6  0.7  0.8  0.9  1.   1.1  1.2  1.3\n",
            "  1.4  1.5  1.6  1.7  1.8  1.9  2.   2.1  2.2  2.3  2.4  2.5  2.6  2.7\n",
            "  2.8  2.9  3.   3.1  3.2  3.3  3.4  3.5  3.6  3.7  3.8  3.9  4.   4.1\n",
            "  4.2  4.3  4.4  4.5  4.6  4.7  4.8  4.9  5.   5.1  5.2  5.3  5.4  5.5\n",
            "  5.6  5.7  5.8  5.9  6.   6.1  6.2  6.3  6.4  6.5  6.6  6.7  6.8  6.9\n",
            "  7.   7.1  7.2  7.3  7.4  7.5  7.6  7.7  7.8  7.9  8.   8.1  8.2  8.3\n",
            "  8.4  8.5  8.6  8.7  8.8  8.9  9.   9.1  9.2  9.3  9.4  9.5  9.6  9.7\n",
            "  9.8  9.9 10.  10.1 10.2 10.3 10.4 10.5 10.6 10.7 10.8 10.9 11.  11.1\n",
            " 11.2 11.3 11.4 11.5 11.6 11.7 11.8 11.9 12.  12.1 12.2 12.3 12.4 12.5\n",
            " 12.6 12.7 12.8 12.9 13.  13.1 13.2 13.3 13.4 13.5 13.6 13.7 13.8 13.9\n",
            " 14.  14.1 14.2 14.3 14.4 14.5 14.6 14.7 14.8 14.9 15.  15.1 15.2 15.3\n",
            " 15.4 15.5 15.6 15.7 15.8 15.9 16.  16.1 16.2 16.3 16.4 16.5 16.6 16.7\n",
            " 16.8 16.9 17.  17.1 17.2 17.3 17.4 17.5 17.6 17.7 17.8 17.9 18.  18.1\n",
            " 18.2 18.3 18.4 18.5 18.6 18.7 18.8 18.9 19.  19.1 19.2 19.3 19.4 19.5\n",
            " 19.6 19.7 19.8 19.9 20.  20.1 20.2 20.3 20.4 20.5 20.6 20.7 20.8 20.9\n",
            " 21.  21.1 21.2 21.3 21.4 21.5 21.6 21.7 21.8 21.9 22.  22.1 22.2 22.3\n",
            " 22.4 22.5 22.6 22.7 22.8 22.9 23.  23.1 23.2 23.3 23.4 23.5 23.6 23.7\n",
            " 23.8 23.9 24.  24.1 24.2 24.3 24.4 24.5 24.6 24.7 24.8 24.9 25.  25.1\n",
            " 25.2 25.3 25.4 25.5 25.6 25.7 25.8 25.9 26.  26.1 26.2 26.3 26.4 26.5\n",
            " 26.6 26.7 26.8 26.9 27.  27.1 27.2 27.3 27.4 27.5 27.6 27.7 27.8 27.9\n",
            " 28.  28.1 28.2 28.3 28.4 28.5 28.6 28.7 28.8 28.9 29.  29.1 29.2 29.3\n",
            " 29.4 29.5 29.6 29.7 29.8 29.9 30.  30.1 30.2 30.3 30.4 30.5 30.6 30.7\n",
            " 30.8 30.9 31.  31.1 31.2 31.3 31.4] [  0.           2.48788858   4.97577716   7.46366574   9.95155432\n",
            "  12.43944289  14.92733147  17.41522005  19.90310863  22.39099721\n",
            "  24.87888579  27.36677437  29.85466295  32.34255152  34.8304401\n",
            "  37.31832868  39.80621726  42.29410584  44.78199442  47.269883\n",
            "  49.75777158  52.24566016  54.73354873  57.22143731  59.70932589\n",
            "  62.19721447  64.68510305  67.17299163  69.66088021  72.14876879\n",
            "  74.63665736  77.12454594  79.61243452  82.1003231   84.58821168\n",
            "  87.07610026  89.56398884  92.05187742  94.539766    97.02765457\n",
            "  99.51554315 102.00343173 104.49132031 106.97920889 109.46709747\n",
            " 111.95498605 114.44287463 116.9307632  119.41865178 121.90654036\n",
            " 124.39442894 126.88231752 129.3702061  131.85809468 134.34598326\n",
            " 136.83387184 139.32176041 141.80964899 144.29753757 146.78542615\n",
            " 149.27331473 151.76120331 154.24909189 156.73698047 159.22486904\n",
            " 161.71275762 164.2006462  166.68853478 169.17642336 171.66431194\n",
            " 174.15220052 176.6400891  179.12797768 181.61586625 184.10375483\n",
            " 186.59164341 189.07953199 191.56742057 194.05530915 196.54319773\n",
            " 199.03108631 201.51897488 204.00686346 206.49475204 208.98264062\n",
            " 211.4705292  213.95841778 216.44630636 218.93419494 221.42208352\n",
            " 223.90997209 226.39786067 228.88574925 231.37363783 233.86152641\n",
            " 236.34941499 238.83730357 241.32519215 243.81308072 246.3009693\n",
            " 248.78885788 251.27674646 253.76463504 256.25252362 258.7404122\n",
            " 261.22830078 263.71618936 266.20407793 268.69196651 271.17985509\n",
            " 273.66774367 276.15563225 278.64352083 281.13140941 283.61929799\n",
            " 286.10718656 288.59507514 291.08296372 293.5708523  296.05874088\n",
            " 298.54662946 301.03451804 303.52240662 306.0102952  308.49818377\n",
            " 310.98607235 313.47396093 315.96184951 318.44973809 320.93762667\n",
            " 323.42551525 325.91340383 328.4012924  330.88918098 333.37706956\n",
            " 335.86495814 338.35284672 340.8407353  343.32862388 345.81651246\n",
            " 348.30440104 350.79228961 353.28017819 355.76806677 358.25595535\n",
            " 360.74384393 363.23173251 365.71962109 368.20750967 370.69539824\n",
            " 373.18328682 375.6711754  378.15906398 380.64695256 383.13484114\n",
            " 385.62272972 388.1106183  390.59850688 393.08639545 395.57428403\n",
            " 398.06217261 400.55006119 403.03794977 405.52583835 408.01372693\n",
            " 410.50161551 412.98950408 415.47739266 417.96528124 420.45316982\n",
            " 422.9410584  425.42894698 427.91683556 430.40472414 432.89261272\n",
            " 435.38050129 437.86838987 440.35627845 442.84416703 445.33205561\n",
            " 447.81994419 450.30783277 452.79572135 455.28360992 457.7714985\n",
            " 460.25938708 462.74727566 465.23516424 467.72305282 470.2109414\n",
            " 472.69882998 475.18671856 477.67460713 480.16249571 482.65038429\n",
            " 485.13827287 487.62616145 490.11405003 492.60193861 495.08982719]\n"
          ]
        }
      ],
      "source": [
        "phi = np.arange(0, 10*np.pi, 0.1)\n",
        "a = 1\n",
        "x = a*phi*np.cos(phi)\n",
        "y = a*phi*np.sin(phi)\n",
        "dr = (np.diff(x)**2 + np.diff(y)**2)**.5 \n",
        "r = np.zeros_like(x)\n",
        "r[1:] = np.cumsum(dr)                \n",
        "r_int = np.linspace(0, r.max(), 200) \n",
        "x_int = np.interp(r_int, r, x)       \n",
        "y_int = np.interp(r_int, r, y)\n",
        "print(phi,r_int)"
      ]
    },
    {
      "cell_type": "markdown",
      "metadata": {
        "id": "NXIzQilBTnhJ"
      },
      "source": [
        "#### 99. Given an integer n and a 2D array X, select from X the rows which can be interpreted as draws from a multinomial distribution with n degrees, i.e., the rows which only contain integers and which sum to n. (★★★) \n",
        "(**hint**: np.logical\\_and.reduce, np.mod)"
      ]
    },
    {
      "cell_type": "code",
      "execution_count": null,
      "metadata": {
        "id": "bXHrL938TnhK",
        "colab": {
          "base_uri": "https://localhost:8080/"
        },
        "outputId": "a9d2ab3b-df8a-4b5f-d9f5-11dc08dddc47"
      },
      "outputs": [
        {
          "output_type": "stream",
          "name": "stdout",
          "text": [
            "[[2. 0. 1. 1.]]\n"
          ]
        }
      ],
      "source": [
        "X = np.asarray([[1.0, 0.0, 3.0, 8.0],\n",
        "                [2.0, 0.0, 1.0, 1.0],\n",
        "                [1.5, 2.5, 1.0, 0.0]])\n",
        "n = 4\n",
        "M = np.logical_and.reduce(np.mod(X, 1) == 0, axis=-1)\n",
        "M &= (X.sum(axis=-1) == n)\n",
        "print(X[M])"
      ]
    },
    {
      "cell_type": "markdown",
      "metadata": {
        "id": "9HviJ6vuTnhK"
      },
      "source": [
        "#### 100. Compute bootstrapped 95% confidence intervals for the mean of a 1D array X (i.e., resample the elements of an array with replacement N times, compute the mean of each sample, and then compute percentiles over the means). (★★★) \n",
        "(**hint**: np.percentile)"
      ]
    },
    {
      "cell_type": "code",
      "execution_count": null,
      "metadata": {
        "id": "YftHxLyyTnhL",
        "colab": {
          "base_uri": "https://localhost:8080/"
        },
        "outputId": "9cf0882c-e98c-4561-9a39-03158e4b8eac"
      },
      "outputs": [
        {
          "output_type": "stream",
          "name": "stdout",
          "text": [
            "[-0.17427915  0.20894871]\n"
          ]
        }
      ],
      "source": [
        "X = np.random.randn(100) \n",
        "N = 1000 \n",
        "idx = np.random.randint(0, X.size, (N, X.size))\n",
        "means = X[idx].mean(axis=1)\n",
        "confint = np.percentile(means, [2.5, 97.5])\n",
        "print(confint)"
      ]
    }
  ],
  "metadata": {
    "kernelspec": {
      "display_name": "Python 3",
      "language": "python",
      "name": "python3"
    },
    "language_info": {
      "codemirror_mode": {
        "name": "ipython",
        "version": 3
      },
      "file_extension": ".py",
      "mimetype": "text/x-python",
      "name": "python",
      "nbconvert_exporter": "python",
      "pygments_lexer": "ipython3",
      "version": "3.8.3"
    },
    "colab": {
      "name": "Copy of Numpy_tasks.ipynb",
      "provenance": [],
      "collapsed_sections": []
    }
  },
  "nbformat": 4,
  "nbformat_minor": 0
}